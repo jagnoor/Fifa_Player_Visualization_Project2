{
 "cells": [
  {
   "cell_type": "code",
   "execution_count": null,
   "metadata": {},
   "outputs": [],
   "source": [
    "import pandas as pd\n",
    "import numpy as np\n",
    "from sqlalchemy import create_engine"
   ]
  },
  {
   "cell_type": "code",
   "execution_count": null,
   "metadata": {},
   "outputs": [],
   "source": [
    "from fifa_storage import fifa_pw, fifa_username"
   ]
  },
  {
   "cell_type": "code",
   "execution_count": null,
   "metadata": {},
   "outputs": [],
   "source": [
    "import warnings\n",
    "warnings.filterwarnings(\"ignore\")"
   ]
  },
  {
   "cell_type": "code",
   "execution_count": null,
   "metadata": {},
   "outputs": [],
   "source": [
    "df=pd.read_csv(\"players_20.csv\")\n",
    "df"
   ]
  },
  {
   "cell_type": "code",
   "execution_count": null,
   "metadata": {},
   "outputs": [],
   "source": [
    "df.describe()"
   ]
  },
  {
   "cell_type": "code",
   "execution_count": null,
   "metadata": {},
   "outputs": [],
   "source": [
    "df.columns.values"
   ]
  },
  {
   "cell_type": "code",
   "execution_count": null,
   "metadata": {},
   "outputs": [],
   "source": [
    "df1 = df[['sofifa_id','player_url','short_name', 'age','nationality', 'club', 'overall', 'wage_eur', 'player_positions', 'pace', 'shooting', 'passing', 'dribbling', 'defending', 'physic']].copy()"
   ]
  },
  {
   "cell_type": "code",
   "execution_count": null,
   "metadata": {},
   "outputs": [],
   "source": [
    "# List of countries for each continent\n",
    "continents = {\n",
    "    'Africa' : ['Algeria','Angola','Benin','Botswana','Burkina','Burundi','Cameroon','Cape Verde','Central African Republic','Chad','Comoros','Congo','DR Congo','Djibouti','Egypt','Equatorial Guinea','Eritrea','Ethiopia','Gabon','Gambia','Ghana','Guinea','Guinea Bissau','Ivory Coast','Kenya','Lesotho','Liberia','Libya','Madagascar','Malawi','Mali','Mauritania','Mauritius','Morocco','Mozambique','Namibia','Niger','Nigeria','Rwanda','Sao Tome and Principe','Senegal','Seychelles','Sierra Leone','Somalia','South Africa','South Sudan','Sudan','Swaziland','Tanzania','Togo','Tunisia','Uganda','Zambia','Zimbabwe','Burkina Faso'],\n",
    "    'Antarctica' : ['Fiji','Kiribati','Marshall Islands','Micronesia','Nauru','New Zealand','Palau','Papua New Guinea','Samoa','Solomon Islands','Tonga','Tuvalu','Vanuatu'],\n",
    "    'Asia' : ['Afghanistan','Bahrain','Bangladesh','Bhutan','Brunei','Burma (Myanmar)','Cambodia','China','China PR','East Timor','India','Indonesia','Iran','Iraq','Israel','Japan','Jordan','Kazakhstan','North Korea','South Korea','Korea Republic','Korea DPR','Kuwait','Kyrgyzstan','Laos','Lebanon','Malaysia','Maldives','Mongolia','Nepal','Oman','Pakistan','Palestine','Philippines','Qatar','Russian Federation','Saudi Arabia','Singapore','Sri Lanka','Syria','Tajikistan','Thailand','Turkey','Turkmenistan','United Arab Emirates','Uzbekistan','Vietnam','Yemen','Russia'],\n",
    "    'Australia Oceania' : ['Australia','New Caledonia'],\n",
    "    'Europe' : ['Albania','Andorra','Armenia','Austria','Azerbaijan','Belarus','Belgium','Bosnia Herzegovina','Bulgaria','Croatia','Cyprus','Czech Republic','Denmark','Estonia','Finland','France','FYR Macedonia','Georgia','Germany','Greece','Hungary','Iceland','Ireland','Italy','Kosovo','Latvia','Liechtenstein','Lithuania','Luxembourg','Macedonia','Malta','Moldova','Monaco','Montenegro','Netherlands','Northern Ireland','Norway','Poland','Portugal','Romania','San Marino','Scotland','Serbia','Slovakia','Slovenia','Spain','Sweden','Switzerland','Ukraine','England','Vatican City','Republic of Ireland','Wales'],\n",
    "    'North America' : ['Antigua and Barbuda','Bahamas','Barbados','Belize','Canada','Costa Rica','Cuba','Dominica','Dominican Republic','El Salvador','Grenada','Guatemala','Haiti','Honduras','Jamaica','Mexico','Nicaragua','Panama','Saint Kitts and Nevis','Saint Lucia','Saint Vincent and the Grenadines','Trinidad and Tobago','United States'],\n",
    "    'South America' : ['Argentina','Bolivia','Brazil','Chile','Colombia','Curacao','Ecuador','Guyana','Paraguay','Peru','Suriname','Trinidad & Tobago','Uruguay','Venezuela']\n",
    "}"
   ]
  },
  {
   "cell_type": "code",
   "execution_count": null,
   "metadata": {},
   "outputs": [],
   "source": [
    "# Function matching continent to countries\n",
    "def find_continent(x, continents_list):\n",
    "    # Iteration over \n",
    "    for key in continents_list:\n",
    "        if x in continents_list[key]:\n",
    "            return key\n",
    "    return np.NaN\n",
    "\n",
    "df1['continent'] = df1['nationality'].apply(lambda x: find_continent(x, continents))"
   ]
  },
  {
   "cell_type": "code",
   "execution_count": null,
   "metadata": {},
   "outputs": [],
   "source": [
    "from IPython.core.display import display, HTML, Javascript\n",
    "from string import Template\n",
    "import json\n",
    "import IPython.display"
   ]
  },
  {
   "cell_type": "code",
   "execution_count": null,
   "metadata": {},
   "outputs": [],
   "source": [
    "clean = df1.dropna()"
   ]
  },
  {
   "cell_type": "code",
   "execution_count": null,
   "metadata": {},
   "outputs": [],
   "source": [
    "clean.head(50)"
   ]
  },
  {
   "cell_type": "code",
   "execution_count": null,
   "metadata": {},
   "outputs": [],
   "source": [
    "Africa = clean[clean[\"continent\"]=='Africa']\n",
    "Antarctica = clean[clean[\"continent\"]=='Antarctica']\n",
    "Asia = clean[clean[\"continent\"]=='Asia']\n",
    "Australia_Oceania =  clean[clean[\"continent\"]=='Australia_Oceania']\n",
    "Europe = clean[clean[\"continent\"]=='Europe']\n",
    "North_america = clean[clean[\"continent\"]=='North_america']\n",
    "South_america = clean[clean[\"continent\"]=='South_america']\n",
    "\n",
    "data = {}\n",
    "data[\"name\"] = \"DISTRIBUTION OF TOP 1000 PLAERS DUE TO NATIONALITY\"\n",
    "data[\"children\"] = []\n",
    "# Split dataset into Continents: thank you Dom and TA's \n",
    "\n",
    "for continent in clean['continent'].unique():\n",
    "    \n",
    "    continent_set = clean[clean[\"continent\"]==continent]\n",
    "    continent_dict = {}\n",
    "    continent_dict[\"name\"] = continent\n",
    "    continent_dict[\"children\"] = []\n",
    "    data[\"children\"].append(continent_dict)\n",
    "    \n",
    "    for country in continent_set['nationality'].unique():\n",
    "        \n",
    "        countries_set = continent_set[continent_set['nationality']==country][['short_name', 'overall']]\n",
    "        country_dict = {}\n",
    "        country_dict[\"name\"] = country\n",
    "        country_dict[\"children\"] = []\n",
    "        continent_dict['children'].append(country_dict)\n",
    "\n",
    "        \n",
    "        for player in countries_set.values:\n",
    "            \n",
    "            player_dict = {}\n",
    "            player_dict['name'] = player[0]\n",
    "            player_dict['size'] = player[1]\n",
    "            country_dict[\"children\"].append(player_dict)\n",
    "            \n",
    "        "
   ]
  },
  {
   "cell_type": "code",
   "execution_count": null,
   "metadata": {},
   "outputs": [],
   "source": [
    "print(data)"
   ]
  },
  {
   "cell_type": "code",
   "execution_count": null,
   "metadata": {},
   "outputs": [],
   "source": [
    "# North_america_dict = {}\n",
    "# North_america_dict['name'] = 'North_america'\n",
    "# North_america_dict['children'] = []\n",
    "# for country in North_america['nationality'].unique():\n",
    "#     list_of_countries = North_america[North_america['nationality']==country][['short_name', 'overall']].rename(columns={'short_name': 'name', 'overall': 'size'})\n",
    "#     tmp_dict = {}\n",
    "#     tmp_dict[\"name\"] = country\n",
    "#     tmp_dict[\"children\"] = []\n",
    "#     for row in list_of_countries.values:\n",
    "#         player_tmp = {}\n",
    "#         player_tmp['name'] = row[0]\n",
    "#         player_tmp['size'] = row[1]\n",
    "#         tmp_dict[\"children\"].append(player_tmp)\n",
    "#     North_america_dict['children'].append(tmp_dict)"
   ]
  },
  {
   "cell_type": "code",
   "execution_count": null,
   "metadata": {},
   "outputs": [],
   "source": [
    "# print(North_america_dict)"
   ]
  },
  {
   "cell_type": "code",
   "execution_count": null,
   "metadata": {},
   "outputs": [],
   "source": [
    "clean.to_csv('clean.csv')"
   ]
  },
  {
   "cell_type": "code",
   "execution_count": null,
   "metadata": {},
   "outputs": [],
   "source": [
    "clean"
   ]
  },
  {
   "cell_type": "code",
   "execution_count": null,
   "metadata": {},
   "outputs": [],
   "source": [
    "clean.short_name.count()"
   ]
  },
  {
   "cell_type": "code",
   "execution_count": null,
   "metadata": {},
   "outputs": [],
   "source": [
    "len(clean.short_name.value_counts())"
   ]
  },
  {
   "cell_type": "code",
   "execution_count": null,
   "metadata": {},
   "outputs": [],
   "source": [
    "short_list = clean.groupby('short_name').mean().sort_values('wage_eur',ascending=False)[:200]"
   ]
  },
  {
   "cell_type": "code",
   "execution_count": null,
   "metadata": {},
   "outputs": [],
   "source": [
    "short_list"
   ]
  },
  {
   "cell_type": "code",
   "execution_count": null,
   "metadata": {},
   "outputs": [],
   "source": [
    "short_list.to_csv('short_list.csv')"
   ]
  },
  {
   "cell_type": "markdown",
   "metadata": {},
   "source": [
    "# Load"
   ]
  },
  {
   "cell_type": "code",
   "execution_count": null,
   "metadata": {},
   "outputs": [],
   "source": [
    "# Connect to local Database\n",
    "\n",
    "rds_connection_string = f\"{fifa_username}:{fifa_pw}@localhost:5432/fifa_df1\"\n",
    "engine = create_engine(f'postgresql://{rds_connection_string}')"
   ]
  },
  {
   "cell_type": "code",
   "execution_count": null,
   "metadata": {},
   "outputs": [],
   "source": [
    "# pulled the table names from our database\n",
    "\n",
    "engine.table_names()"
   ]
  },
  {
   "cell_type": "code",
   "execution_count": null,
   "metadata": {},
   "outputs": [],
   "source": [
    "#pushed the reset_vaccine dataframe to our table: COUNTRY_VACCINE\n",
    "\n",
    "clean.to_sql(name='fifa_df1', con=engine, if_exists='append', index=False)"
   ]
  },
  {
   "cell_type": "code",
   "execution_count": null,
   "metadata": {},
   "outputs": [],
   "source": [
    "#read the table: COUNTRY_VACCINE from our database\n",
    "\n",
    "pd.read_sql_query('select * from fifa_df1', con=engine)"
   ]
  }
 ],
 "metadata": {
  "kernelspec": {
   "display_name": "Python 3",
   "language": "python",
   "name": "python3"
  },
  "language_info": {
   "codemirror_mode": {
    "name": "ipython",
    "version": 3
   },
   "file_extension": ".py",
   "mimetype": "text/x-python",
   "name": "python",
   "nbconvert_exporter": "python",
   "pygments_lexer": "ipython3",
   "version": "3.6.10"
  }
 },
 "nbformat": 4,
 "nbformat_minor": 4
}
