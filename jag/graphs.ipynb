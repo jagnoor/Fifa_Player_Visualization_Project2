{
 "cells": [
  {
   "cell_type": "code",
   "execution_count": 1,
   "metadata": {},
   "outputs": [
    {
     "data": {
      "text/html": [
       "        <script type=\"text/javascript\">\n",
       "        window.PlotlyConfig = {MathJaxConfig: 'local'};\n",
       "        if (window.MathJax) {MathJax.Hub.Config({SVG: {font: \"STIX-Web\"}});}\n",
       "        if (typeof require !== 'undefined') {\n",
       "        require.undef(\"plotly\");\n",
       "        requirejs.config({\n",
       "            paths: {\n",
       "                'plotly': ['https://cdn.plot.ly/plotly-latest.min']\n",
       "            }\n",
       "        });\n",
       "        require(['plotly'], function(Plotly) {\n",
       "            window._Plotly = Plotly;\n",
       "        });\n",
       "        }\n",
       "        </script>\n",
       "        "
      ]
     },
     "metadata": {},
     "output_type": "display_data"
    }
   ],
   "source": [
    "import numpy as np\n",
    "import pandas as pd\n",
    "\n",
    "import seaborn as sns\n",
    "import matplotlib.pyplot as plt\n",
    "%matplotlib inline\n",
    "\n",
    "import plotly.offline as py\n",
    "py.init_notebook_mode(connected=True)\n",
    "import plotly.graph_objs as go\n",
    "import plotly.tools as tls"
   ]
  },
  {
   "cell_type": "code",
   "execution_count": 2,
   "metadata": {},
   "outputs": [],
   "source": [
    "dataset = pd.read_csv('players_20.csv', header = 0)"
   ]
  },
  {
   "cell_type": "code",
   "execution_count": 3,
   "metadata": {},
   "outputs": [
    {
     "data": {
      "text/html": [
       "<div>\n",
       "<style scoped>\n",
       "    .dataframe tbody tr th:only-of-type {\n",
       "        vertical-align: middle;\n",
       "    }\n",
       "\n",
       "    .dataframe tbody tr th {\n",
       "        vertical-align: top;\n",
       "    }\n",
       "\n",
       "    .dataframe thead th {\n",
       "        text-align: right;\n",
       "    }\n",
       "</style>\n",
       "<table border=\"1\" class=\"dataframe\">\n",
       "  <thead>\n",
       "    <tr style=\"text-align: right;\">\n",
       "      <th></th>\n",
       "      <th>sofifa_id</th>\n",
       "      <th>player_url</th>\n",
       "      <th>short_name</th>\n",
       "      <th>long_name</th>\n",
       "      <th>age</th>\n",
       "      <th>dob</th>\n",
       "      <th>height_cm</th>\n",
       "      <th>weight_kg</th>\n",
       "      <th>nationality</th>\n",
       "      <th>club</th>\n",
       "      <th>...</th>\n",
       "      <th>lwb</th>\n",
       "      <th>ldm</th>\n",
       "      <th>cdm</th>\n",
       "      <th>rdm</th>\n",
       "      <th>rwb</th>\n",
       "      <th>lb</th>\n",
       "      <th>lcb</th>\n",
       "      <th>cb</th>\n",
       "      <th>rcb</th>\n",
       "      <th>rb</th>\n",
       "    </tr>\n",
       "  </thead>\n",
       "  <tbody>\n",
       "    <tr>\n",
       "      <th>0</th>\n",
       "      <td>158023</td>\n",
       "      <td>https://sofifa.com/player/158023/lionel-messi/...</td>\n",
       "      <td>L. Messi</td>\n",
       "      <td>Lionel Andrés Messi Cuccittini</td>\n",
       "      <td>32</td>\n",
       "      <td>1987-06-24</td>\n",
       "      <td>170</td>\n",
       "      <td>72</td>\n",
       "      <td>Argentina</td>\n",
       "      <td>FC Barcelona</td>\n",
       "      <td>...</td>\n",
       "      <td>68+2</td>\n",
       "      <td>66+2</td>\n",
       "      <td>66+2</td>\n",
       "      <td>66+2</td>\n",
       "      <td>68+2</td>\n",
       "      <td>63+2</td>\n",
       "      <td>52+2</td>\n",
       "      <td>52+2</td>\n",
       "      <td>52+2</td>\n",
       "      <td>63+2</td>\n",
       "    </tr>\n",
       "    <tr>\n",
       "      <th>1</th>\n",
       "      <td>20801</td>\n",
       "      <td>https://sofifa.com/player/20801/c-ronaldo-dos-...</td>\n",
       "      <td>Cristiano Ronaldo</td>\n",
       "      <td>Cristiano Ronaldo dos Santos Aveiro</td>\n",
       "      <td>34</td>\n",
       "      <td>1985-02-05</td>\n",
       "      <td>187</td>\n",
       "      <td>83</td>\n",
       "      <td>Portugal</td>\n",
       "      <td>Juventus</td>\n",
       "      <td>...</td>\n",
       "      <td>65+3</td>\n",
       "      <td>61+3</td>\n",
       "      <td>61+3</td>\n",
       "      <td>61+3</td>\n",
       "      <td>65+3</td>\n",
       "      <td>61+3</td>\n",
       "      <td>53+3</td>\n",
       "      <td>53+3</td>\n",
       "      <td>53+3</td>\n",
       "      <td>61+3</td>\n",
       "    </tr>\n",
       "    <tr>\n",
       "      <th>2</th>\n",
       "      <td>190871</td>\n",
       "      <td>https://sofifa.com/player/190871/neymar-da-sil...</td>\n",
       "      <td>Neymar Jr</td>\n",
       "      <td>Neymar da Silva Santos Junior</td>\n",
       "      <td>27</td>\n",
       "      <td>1992-02-05</td>\n",
       "      <td>175</td>\n",
       "      <td>68</td>\n",
       "      <td>Brazil</td>\n",
       "      <td>Paris Saint-Germain</td>\n",
       "      <td>...</td>\n",
       "      <td>66+3</td>\n",
       "      <td>61+3</td>\n",
       "      <td>61+3</td>\n",
       "      <td>61+3</td>\n",
       "      <td>66+3</td>\n",
       "      <td>61+3</td>\n",
       "      <td>46+3</td>\n",
       "      <td>46+3</td>\n",
       "      <td>46+3</td>\n",
       "      <td>61+3</td>\n",
       "    </tr>\n",
       "    <tr>\n",
       "      <th>3</th>\n",
       "      <td>200389</td>\n",
       "      <td>https://sofifa.com/player/200389/jan-oblak/20/...</td>\n",
       "      <td>J. Oblak</td>\n",
       "      <td>Jan Oblak</td>\n",
       "      <td>26</td>\n",
       "      <td>1993-01-07</td>\n",
       "      <td>188</td>\n",
       "      <td>87</td>\n",
       "      <td>Slovenia</td>\n",
       "      <td>Atlético Madrid</td>\n",
       "      <td>...</td>\n",
       "      <td>NaN</td>\n",
       "      <td>NaN</td>\n",
       "      <td>NaN</td>\n",
       "      <td>NaN</td>\n",
       "      <td>NaN</td>\n",
       "      <td>NaN</td>\n",
       "      <td>NaN</td>\n",
       "      <td>NaN</td>\n",
       "      <td>NaN</td>\n",
       "      <td>NaN</td>\n",
       "    </tr>\n",
       "    <tr>\n",
       "      <th>4</th>\n",
       "      <td>183277</td>\n",
       "      <td>https://sofifa.com/player/183277/eden-hazard/2...</td>\n",
       "      <td>E. Hazard</td>\n",
       "      <td>Eden Hazard</td>\n",
       "      <td>28</td>\n",
       "      <td>1991-01-07</td>\n",
       "      <td>175</td>\n",
       "      <td>74</td>\n",
       "      <td>Belgium</td>\n",
       "      <td>Real Madrid</td>\n",
       "      <td>...</td>\n",
       "      <td>66+3</td>\n",
       "      <td>63+3</td>\n",
       "      <td>63+3</td>\n",
       "      <td>63+3</td>\n",
       "      <td>66+3</td>\n",
       "      <td>61+3</td>\n",
       "      <td>49+3</td>\n",
       "      <td>49+3</td>\n",
       "      <td>49+3</td>\n",
       "      <td>61+3</td>\n",
       "    </tr>\n",
       "  </tbody>\n",
       "</table>\n",
       "<p>5 rows × 104 columns</p>\n",
       "</div>"
      ],
      "text/plain": [
       "   sofifa_id                                         player_url  \\\n",
       "0     158023  https://sofifa.com/player/158023/lionel-messi/...   \n",
       "1      20801  https://sofifa.com/player/20801/c-ronaldo-dos-...   \n",
       "2     190871  https://sofifa.com/player/190871/neymar-da-sil...   \n",
       "3     200389  https://sofifa.com/player/200389/jan-oblak/20/...   \n",
       "4     183277  https://sofifa.com/player/183277/eden-hazard/2...   \n",
       "\n",
       "          short_name                            long_name  age         dob  \\\n",
       "0           L. Messi       Lionel Andrés Messi Cuccittini   32  1987-06-24   \n",
       "1  Cristiano Ronaldo  Cristiano Ronaldo dos Santos Aveiro   34  1985-02-05   \n",
       "2          Neymar Jr        Neymar da Silva Santos Junior   27  1992-02-05   \n",
       "3           J. Oblak                            Jan Oblak   26  1993-01-07   \n",
       "4          E. Hazard                          Eden Hazard   28  1991-01-07   \n",
       "\n",
       "   height_cm  weight_kg nationality                 club  ...   lwb   ldm  \\\n",
       "0        170         72   Argentina         FC Barcelona  ...  68+2  66+2   \n",
       "1        187         83    Portugal             Juventus  ...  65+3  61+3   \n",
       "2        175         68      Brazil  Paris Saint-Germain  ...  66+3  61+3   \n",
       "3        188         87    Slovenia      Atlético Madrid  ...   NaN   NaN   \n",
       "4        175         74     Belgium          Real Madrid  ...  66+3  63+3   \n",
       "\n",
       "    cdm   rdm   rwb    lb   lcb    cb   rcb    rb  \n",
       "0  66+2  66+2  68+2  63+2  52+2  52+2  52+2  63+2  \n",
       "1  61+3  61+3  65+3  61+3  53+3  53+3  53+3  61+3  \n",
       "2  61+3  61+3  66+3  61+3  46+3  46+3  46+3  61+3  \n",
       "3   NaN   NaN   NaN   NaN   NaN   NaN   NaN   NaN  \n",
       "4  63+3  63+3  66+3  61+3  49+3  49+3  49+3  61+3  \n",
       "\n",
       "[5 rows x 104 columns]"
      ]
     },
     "execution_count": 3,
     "metadata": {},
     "output_type": "execute_result"
    }
   ],
   "source": [
    "dataset.head()"
   ]
  },
  {
   "cell_type": "code",
   "execution_count": 4,
   "metadata": {},
   "outputs": [],
   "source": [
    "interesting_columns = [\n",
    "    'short_name', \n",
    "    'age', \n",
    "    'player_url', \n",
    "    'nationality', \n",
    "    'overall', \n",
    "    'potential', \n",
    "    'club', \n",
    "    'value_eur', \n",
    "    'wage_eur', \n",
    "    'player_positions'\n",
    "]\n",
    "dataset = pd.DataFrame(dataset, columns=interesting_columns)"
   ]
  },
  {
   "cell_type": "code",
   "execution_count": 5,
   "metadata": {},
   "outputs": [
    {
     "data": {
      "text/html": [
       "<div>\n",
       "<style scoped>\n",
       "    .dataframe tbody tr th:only-of-type {\n",
       "        vertical-align: middle;\n",
       "    }\n",
       "\n",
       "    .dataframe tbody tr th {\n",
       "        vertical-align: top;\n",
       "    }\n",
       "\n",
       "    .dataframe thead th {\n",
       "        text-align: right;\n",
       "    }\n",
       "</style>\n",
       "<table border=\"1\" class=\"dataframe\">\n",
       "  <thead>\n",
       "    <tr style=\"text-align: right;\">\n",
       "      <th></th>\n",
       "      <th>short_name</th>\n",
       "      <th>age</th>\n",
       "      <th>player_url</th>\n",
       "      <th>nationality</th>\n",
       "      <th>overall</th>\n",
       "      <th>potential</th>\n",
       "      <th>club</th>\n",
       "      <th>value_eur</th>\n",
       "      <th>wage_eur</th>\n",
       "      <th>player_positions</th>\n",
       "    </tr>\n",
       "  </thead>\n",
       "  <tbody>\n",
       "    <tr>\n",
       "      <th>0</th>\n",
       "      <td>L. Messi</td>\n",
       "      <td>32</td>\n",
       "      <td>https://sofifa.com/player/158023/lionel-messi/...</td>\n",
       "      <td>Argentina</td>\n",
       "      <td>94</td>\n",
       "      <td>94</td>\n",
       "      <td>FC Barcelona</td>\n",
       "      <td>95500000</td>\n",
       "      <td>565000</td>\n",
       "      <td>RW, CF, ST</td>\n",
       "    </tr>\n",
       "    <tr>\n",
       "      <th>1</th>\n",
       "      <td>Cristiano Ronaldo</td>\n",
       "      <td>34</td>\n",
       "      <td>https://sofifa.com/player/20801/c-ronaldo-dos-...</td>\n",
       "      <td>Portugal</td>\n",
       "      <td>93</td>\n",
       "      <td>93</td>\n",
       "      <td>Juventus</td>\n",
       "      <td>58500000</td>\n",
       "      <td>405000</td>\n",
       "      <td>ST, LW</td>\n",
       "    </tr>\n",
       "    <tr>\n",
       "      <th>2</th>\n",
       "      <td>Neymar Jr</td>\n",
       "      <td>27</td>\n",
       "      <td>https://sofifa.com/player/190871/neymar-da-sil...</td>\n",
       "      <td>Brazil</td>\n",
       "      <td>92</td>\n",
       "      <td>92</td>\n",
       "      <td>Paris Saint-Germain</td>\n",
       "      <td>105500000</td>\n",
       "      <td>290000</td>\n",
       "      <td>LW, CAM</td>\n",
       "    </tr>\n",
       "    <tr>\n",
       "      <th>3</th>\n",
       "      <td>J. Oblak</td>\n",
       "      <td>26</td>\n",
       "      <td>https://sofifa.com/player/200389/jan-oblak/20/...</td>\n",
       "      <td>Slovenia</td>\n",
       "      <td>91</td>\n",
       "      <td>93</td>\n",
       "      <td>Atlético Madrid</td>\n",
       "      <td>77500000</td>\n",
       "      <td>125000</td>\n",
       "      <td>GK</td>\n",
       "    </tr>\n",
       "    <tr>\n",
       "      <th>4</th>\n",
       "      <td>E. Hazard</td>\n",
       "      <td>28</td>\n",
       "      <td>https://sofifa.com/player/183277/eden-hazard/2...</td>\n",
       "      <td>Belgium</td>\n",
       "      <td>91</td>\n",
       "      <td>91</td>\n",
       "      <td>Real Madrid</td>\n",
       "      <td>90000000</td>\n",
       "      <td>470000</td>\n",
       "      <td>LW, CF</td>\n",
       "    </tr>\n",
       "  </tbody>\n",
       "</table>\n",
       "</div>"
      ],
      "text/plain": [
       "          short_name  age                                         player_url  \\\n",
       "0           L. Messi   32  https://sofifa.com/player/158023/lionel-messi/...   \n",
       "1  Cristiano Ronaldo   34  https://sofifa.com/player/20801/c-ronaldo-dos-...   \n",
       "2          Neymar Jr   27  https://sofifa.com/player/190871/neymar-da-sil...   \n",
       "3           J. Oblak   26  https://sofifa.com/player/200389/jan-oblak/20/...   \n",
       "4          E. Hazard   28  https://sofifa.com/player/183277/eden-hazard/2...   \n",
       "\n",
       "  nationality  overall  potential                 club  value_eur  wage_eur  \\\n",
       "0   Argentina       94         94         FC Barcelona   95500000    565000   \n",
       "1    Portugal       93         93             Juventus   58500000    405000   \n",
       "2      Brazil       92         92  Paris Saint-Germain  105500000    290000   \n",
       "3    Slovenia       91         93      Atlético Madrid   77500000    125000   \n",
       "4     Belgium       91         91          Real Madrid   90000000    470000   \n",
       "\n",
       "  player_positions  \n",
       "0       RW, CF, ST  \n",
       "1           ST, LW  \n",
       "2          LW, CAM  \n",
       "3               GK  \n",
       "4           LW, CF  "
      ]
     },
     "execution_count": 5,
     "metadata": {},
     "output_type": "execute_result"
    }
   ],
   "source": [
    "dataset.head()"
   ]
  },
  {
   "cell_type": "code",
   "execution_count": 6,
   "metadata": {},
   "outputs": [
    {
     "name": "stdout",
     "output_type": "stream",
     "text": [
      "<class 'pandas.core.frame.DataFrame'>\n",
      "RangeIndex: 18278 entries, 0 to 18277\n",
      "Data columns (total 10 columns):\n",
      " #   Column            Non-Null Count  Dtype \n",
      "---  ------            --------------  ----- \n",
      " 0   short_name        18278 non-null  object\n",
      " 1   age               18278 non-null  int64 \n",
      " 2   player_url        18278 non-null  object\n",
      " 3   nationality       18278 non-null  object\n",
      " 4   overall           18278 non-null  int64 \n",
      " 5   potential         18278 non-null  int64 \n",
      " 6   club              18278 non-null  object\n",
      " 7   value_eur         18278 non-null  int64 \n",
      " 8   wage_eur          18278 non-null  int64 \n",
      " 9   player_positions  18278 non-null  object\n",
      "dtypes: int64(5), object(5)\n",
      "memory usage: 1.4+ MB\n"
     ]
    }
   ],
   "source": [
    "dataset.info()"
   ]
  },
  {
   "cell_type": "code",
   "execution_count": 7,
   "metadata": {},
   "outputs": [],
   "source": [
    "dataset['ValueNum'] = dataset['value_eur']\n",
    "dataset['WageNum'] = dataset['wage_eur']"
   ]
  },
  {
   "cell_type": "code",
   "execution_count": 8,
   "metadata": {},
   "outputs": [],
   "source": [
    "max_value = float(dataset['ValueNum'].max() + 1)\n",
    "max_wage = float(dataset['WageNum'].max() + 1)\n",
    "\n",
    "# Supporting function for creating category columns 'ValueCategory' and 'WageCategory'\n",
    "def mappingAmount(x, max_amount):\n",
    "    for i in range(0, 10):\n",
    "        if x >= max_amount/10*i and x < max_amount/10*(i+1):\n",
    "            return i\n",
    "        \n",
    "dataset['ValueCategory'] = dataset['ValueNum'].apply(lambda x: mappingAmount(x, max_value))\n",
    "dataset['WageCategory'] = dataset['WageNum'].apply(lambda x: mappingAmount(x, max_wage))"
   ]
  },
  {
   "cell_type": "code",
   "execution_count": 9,
   "metadata": {},
   "outputs": [],
   "source": [
    "mean_value = float(dataset[\"ValueNum\"].mean())\n",
    "mean_wage = float(dataset[\"WageNum\"].mean())\n",
    "\n",
    "# Supporting function for creating category columns 'OverMeanValue' and 'OverMeanWage'\n",
    "def overValue(x, limit):\n",
    "    if x > limit:\n",
    "        return 1\n",
    "    else:\n",
    "        return 0\n",
    "    \n",
    "dataset['OverMeanValue'] = dataset['ValueNum'].apply(lambda x: overValue(x, mean_value))\n",
    "dataset['OverMeanWage'] = dataset['WageNum'].apply(lambda x: overValue(x, mean_wage))"
   ]
  },
  {
   "cell_type": "code",
   "execution_count": 10,
   "metadata": {},
   "outputs": [],
   "source": [
    "dataset['PotentialPoints'] = dataset['potential'] - dataset['overall']"
   ]
  },
  {
   "cell_type": "code",
   "execution_count": 11,
   "metadata": {},
   "outputs": [],
   "source": [
    "dataset['Position'] = dataset['player_positions'].str.split().str[0]"
   ]
  },
  {
   "cell_type": "code",
   "execution_count": 12,
   "metadata": {},
   "outputs": [],
   "source": [
    "dataset['PositionNum'] = dataset['player_positions'].apply(lambda x: len(x.split()))"
   ]
  },
  {
   "cell_type": "code",
   "execution_count": 13,
   "metadata": {},
   "outputs": [],
   "source": [
    "# List of countries for each continent\n",
    "continents = {\n",
    "    'Africa' : ['Algeria','Angola','Benin','Botswana','Burkina','Burundi','Cameroon','Cape Verde','Central African Republic','Chad','Comoros','Congo','DR Congo','Djibouti','Egypt','Equatorial Guinea','Eritrea','Ethiopia','Gabon','Gambia','Ghana','Guinea','Guinea Bissau','Ivory Coast','Kenya','Lesotho','Liberia','Libya','Madagascar','Malawi','Mali','Mauritania','Mauritius','Morocco','Mozambique','Namibia','Niger','Nigeria','Rwanda','Sao Tome and Principe','Senegal','Seychelles','Sierra Leone','Somalia','South Africa','South Sudan','Sudan','Swaziland','Tanzania','Togo','Tunisia','Uganda','Zambia','Zimbabwe','Burkina Faso'],\n",
    "    'Antarctica' : ['Fiji','Kiribati','Marshall Islands','Micronesia','Nauru','New Zealand','Palau','Papua New Guinea','Samoa','Solomon Islands','Tonga','Tuvalu','Vanuatu'],\n",
    "    'Asia' : ['Afghanistan','Bahrain','Bangladesh','Bhutan','Brunei','Burma (Myanmar)','Cambodia','China','China PR','East Timor','India','Indonesia','Iran','Iraq','Israel','Japan','Jordan','Kazakhstan','North Korea','South Korea','Korea Republic','Korea DPR','Kuwait','Kyrgyzstan','Laos','Lebanon','Malaysia','Maldives','Mongolia','Nepal','Oman','Pakistan','Palestine','Philippines','Qatar','Russian Federation','Saudi Arabia','Singapore','Sri Lanka','Syria','Tajikistan','Thailand','Turkey','Turkmenistan','United Arab Emirates','Uzbekistan','Vietnam','Yemen','Russia'],\n",
    "    'Australia Oceania' : ['Australia','New Caledonia'],\n",
    "    'Europe' : ['Albania','Andorra','Armenia','Austria','Azerbaijan','Belarus','Belgium','Bosnia Herzegovina','Bulgaria','Croatia','Cyprus','Czech Republic','Denmark','Estonia','Finland','France','FYR Macedonia','Georgia','Germany','Greece','Hungary','Iceland','Ireland','Italy','Kosovo','Latvia','Liechtenstein','Lithuania','Luxembourg','Macedonia','Malta','Moldova','Monaco','Montenegro','Netherlands','Northern Ireland','Norway','Poland','Portugal','Romania','San Marino','Scotland','Serbia','Slovakia','Slovenia','Spain','Sweden','Switzerland','Ukraine','England','Vatican City','Republic of Ireland','Wales'],\n",
    "    'North America' : ['Antigua and Barbuda','Bahamas','Barbados','Belize','Canada','Costa Rica','Cuba','Dominica','Dominican Republic','El Salvador','Grenada','Guatemala','Haiti','Honduras','Jamaica','Mexico','Nicaragua','Panama','Saint Kitts and Nevis','Saint Lucia','Saint Vincent and the Grenadines','Trinidad and Tobago','United States'],\n",
    "    'South America' : ['Argentina','Bolivia','Brazil','Chile','Colombia','Curacao','Ecuador','Guyana','Paraguay','Peru','Suriname','Trinidad & Tobago','Uruguay','Venezuela']\n",
    "}\n",
    "\n",
    "# Function matching continent to countries\n",
    "def find_continent(x, continents_list):\n",
    "    # Iteration over \n",
    "    for key in continents_list:\n",
    "        if x in continents_list[key]:\n",
    "            return key\n",
    "    return np.NaN\n",
    "\n",
    "dataset['Continent'] = dataset['nationality'].apply(lambda x: find_continent(x, continents))"
   ]
  },
  {
   "cell_type": "code",
   "execution_count": 14,
   "metadata": {},
   "outputs": [],
   "source": [
    "from IPython.core.display import display, HTML, Javascript\n",
    "from string import Template\n",
    "import json\n",
    "import IPython.display"
   ]
  },
  {
   "cell_type": "code",
   "execution_count": 15,
   "metadata": {},
   "outputs": [],
   "source": [
    "top_1000 = dataset.sort_values(\"overall\", ascending=False).reset_index().head(1000)[[\"short_name\", \"nationality\", \"Continent\", \"overall\", \"club\"]]"
   ]
  },
  {
   "cell_type": "code",
   "execution_count": 16,
   "metadata": {},
   "outputs": [
    {
     "data": {
      "text/html": [
       "<div>\n",
       "<style scoped>\n",
       "    .dataframe tbody tr th:only-of-type {\n",
       "        vertical-align: middle;\n",
       "    }\n",
       "\n",
       "    .dataframe tbody tr th {\n",
       "        vertical-align: top;\n",
       "    }\n",
       "\n",
       "    .dataframe thead th {\n",
       "        text-align: right;\n",
       "    }\n",
       "</style>\n",
       "<table border=\"1\" class=\"dataframe\">\n",
       "  <thead>\n",
       "    <tr style=\"text-align: right;\">\n",
       "      <th></th>\n",
       "      <th>short_name</th>\n",
       "      <th>nationality</th>\n",
       "      <th>Continent</th>\n",
       "      <th>overall</th>\n",
       "      <th>club</th>\n",
       "    </tr>\n",
       "  </thead>\n",
       "  <tbody>\n",
       "    <tr>\n",
       "      <th>0</th>\n",
       "      <td>L. Messi</td>\n",
       "      <td>Argentina</td>\n",
       "      <td>South America</td>\n",
       "      <td>94</td>\n",
       "      <td>FC Barcelona</td>\n",
       "    </tr>\n",
       "    <tr>\n",
       "      <th>1</th>\n",
       "      <td>Cristiano Ronaldo</td>\n",
       "      <td>Portugal</td>\n",
       "      <td>Europe</td>\n",
       "      <td>93</td>\n",
       "      <td>Juventus</td>\n",
       "    </tr>\n",
       "    <tr>\n",
       "      <th>2</th>\n",
       "      <td>Neymar Jr</td>\n",
       "      <td>Brazil</td>\n",
       "      <td>South America</td>\n",
       "      <td>92</td>\n",
       "      <td>Paris Saint-Germain</td>\n",
       "    </tr>\n",
       "    <tr>\n",
       "      <th>3</th>\n",
       "      <td>J. Oblak</td>\n",
       "      <td>Slovenia</td>\n",
       "      <td>Europe</td>\n",
       "      <td>91</td>\n",
       "      <td>Atlético Madrid</td>\n",
       "    </tr>\n",
       "    <tr>\n",
       "      <th>4</th>\n",
       "      <td>E. Hazard</td>\n",
       "      <td>Belgium</td>\n",
       "      <td>Europe</td>\n",
       "      <td>91</td>\n",
       "      <td>Real Madrid</td>\n",
       "    </tr>\n",
       "    <tr>\n",
       "      <th>...</th>\n",
       "      <td>...</td>\n",
       "      <td>...</td>\n",
       "      <td>...</td>\n",
       "      <td>...</td>\n",
       "      <td>...</td>\n",
       "    </tr>\n",
       "    <tr>\n",
       "      <th>995</th>\n",
       "      <td>L. Rémy</td>\n",
       "      <td>France</td>\n",
       "      <td>Europe</td>\n",
       "      <td>77</td>\n",
       "      <td>LOSC Lille</td>\n",
       "    </tr>\n",
       "    <tr>\n",
       "      <th>996</th>\n",
       "      <td>Miguel Veloso</td>\n",
       "      <td>Portugal</td>\n",
       "      <td>Europe</td>\n",
       "      <td>77</td>\n",
       "      <td>Hellas Verona</td>\n",
       "    </tr>\n",
       "    <tr>\n",
       "      <th>997</th>\n",
       "      <td>M. Suchý</td>\n",
       "      <td>Czech Republic</td>\n",
       "      <td>Europe</td>\n",
       "      <td>77</td>\n",
       "      <td>FC Augsburg</td>\n",
       "    </tr>\n",
       "    <tr>\n",
       "      <th>998</th>\n",
       "      <td>M. Layún</td>\n",
       "      <td>Mexico</td>\n",
       "      <td>North America</td>\n",
       "      <td>77</td>\n",
       "      <td>Monterrey</td>\n",
       "    </tr>\n",
       "    <tr>\n",
       "      <th>999</th>\n",
       "      <td>Douglas</td>\n",
       "      <td>Brazil</td>\n",
       "      <td>South America</td>\n",
       "      <td>77</td>\n",
       "      <td>Vitória Guimarães</td>\n",
       "    </tr>\n",
       "  </tbody>\n",
       "</table>\n",
       "<p>999 rows × 5 columns</p>\n",
       "</div>"
      ],
      "text/plain": [
       "            short_name     nationality      Continent  overall  \\\n",
       "0             L. Messi       Argentina  South America       94   \n",
       "1    Cristiano Ronaldo        Portugal         Europe       93   \n",
       "2            Neymar Jr          Brazil  South America       92   \n",
       "3             J. Oblak        Slovenia         Europe       91   \n",
       "4            E. Hazard         Belgium         Europe       91   \n",
       "..                 ...             ...            ...      ...   \n",
       "995            L. Rémy          France         Europe       77   \n",
       "996      Miguel Veloso        Portugal         Europe       77   \n",
       "997           M. Suchý  Czech Republic         Europe       77   \n",
       "998           M. Layún          Mexico  North America       77   \n",
       "999            Douglas          Brazil  South America       77   \n",
       "\n",
       "                    club  \n",
       "0           FC Barcelona  \n",
       "1               Juventus  \n",
       "2    Paris Saint-Germain  \n",
       "3        Atlético Madrid  \n",
       "4            Real Madrid  \n",
       "..                   ...  \n",
       "995           LOSC Lille  \n",
       "996        Hellas Verona  \n",
       "997          FC Augsburg  \n",
       "998            Monterrey  \n",
       "999    Vitória Guimarães  \n",
       "\n",
       "[999 rows x 5 columns]"
      ]
     },
     "execution_count": 16,
     "metadata": {},
     "output_type": "execute_result"
    }
   ],
   "source": [
    "top_1000=top_1000.dropna()\n",
    "top_1000"
   ]
  },
  {
   "cell_type": "code",
   "execution_count": 17,
   "metadata": {},
   "outputs": [],
   "source": [
    "Africa = top_1000[top_1000[\"Continent\"]=='Africa']\n",
    "Antarctica = top_1000[top_1000[\"Continent\"]=='Antarctica']\n",
    "Asia = top_1000[top_1000[\"Continent\"]=='Asia']\n",
    "Australia_Oceania =  top_1000[top_1000[\"Continent\"]=='Australia_Oceania']\n",
    "Europe = top_1000[top_1000[\"Continent\"]=='Europe']\n",
    "North_america = top_1000[top_1000[\"Continent\"]=='North_america']\n",
    "South_america = top_1000[top_1000[\"Continent\"]=='South_america']\n",
    "\n",
    "data = {}\n",
    "data[\"name\"] = \"DISTRIBUTION OF TOP 1000 PLAERS DUE TO NATIONALITY\"\n",
    "data[\"children\"] = []\n",
    "# Split dataset into Continents: thank you Dom and TA's \n",
    "\n",
    "for continent in top_1000['Continent'].unique():\n",
    "    \n",
    "    continent_set = top_1000[top_1000[\"Continent\"]==continent]\n",
    "    continent_dict = {}\n",
    "    continent_dict[\"name\"] = continent\n",
    "    continent_dict[\"children\"] = []\n",
    "    data[\"children\"].append(continent_dict)\n",
    "    \n",
    "    for country in continent_set['nationality'].unique():\n",
    "        \n",
    "        countries_set = continent_set[continent_set['nationality']==country][['short_name', 'overall']]\n",
    "        country_dict = {}\n",
    "        country_dict[\"name\"] = country\n",
    "        country_dict[\"children\"] = []\n",
    "        continent_dict['children'].append(country_dict)\n",
    "\n",
    "        \n",
    "        for player in countries_set.values:\n",
    "            \n",
    "            player_dict = {}\n",
    "            player_dict['name'] = player[0]\n",
    "            player_dict['size'] = player[1]\n",
    "            country_dict[\"children\"].append(player_dict)\n",
    "            \n",
    "        \n"
   ]
  },
  {
   "cell_type": "code",
   "execution_count": 18,
   "metadata": {},
   "outputs": [
    {
     "name": "stdout",
     "output_type": "stream",
     "text": [
      "{'name': 'DISTRIBUTION OF TOP 1000 PLAERS DUE TO NATIONALITY', 'children': [{'name': 'South America', 'children': [{'name': 'Argentina', 'children': [{'name': 'L. Messi', 'size': 94}, {'name': 'S. Agüero', 'size': 89}, {'name': 'P. Dybala', 'size': 88}, {'name': 'A. Di María', 'size': 86}, {'name': 'M. Icardi', 'size': 85}, {'name': 'A. Gómez', 'size': 85}, {'name': 'G. Higuaín', 'size': 85}, {'name': 'E. Banega', 'size': 83}, {'name': 'E. Garay', 'size': 83}, {'name': 'N. Otamendi', 'size': 83}, {'name': 'G. Lo Celso', 'size': 83}, {'name': 'L. Biglia', 'size': 82}, {'name': 'A. Correa', 'size': 82}, {'name': 'N. Tagliafico', 'size': 82}, {'name': 'L. López', 'size': 81}, {'name': 'N. Gaitán', 'size': 81}, {'name': 'M. Acuña', 'size': 81}, {'name': 'F. Vázquez', 'size': 81}, {'name': 'G. Rulli', 'size': 81}, {'name': 'L. Martínez', 'size': 81}, {'name': 'I. Piatti', 'size': 80}, {'name': 'F. Fazio', 'size': 80}, {'name': 'D. Perotti', 'size': 80}, {'name': 'L. Pratto', 'size': 80}, {'name': 'M. Musacchio', 'size': 80}, {'name': 'S. Romero', 'size': 80}, {'name': 'J. Mascherano', 'size': 80}, {'name': 'E. Lamela', 'size': 80}, {'name': 'I. Marcone', 'size': 80}, {'name': 'F. Armani', 'size': 80}, {'name': 'E. Salvio', 'size': 80}, {'name': 'R. Pereyra', 'size': 80}, {'name': 'J. Correa', 'size': 80}, {'name': 'L. Paredes', 'size': 80}, {'name': 'E. Andrada', 'size': 80}, {'name': 'M. Lanzini', 'size': 80}, {'name': 'W. Benítez', 'size': 80}, {'name': 'N. Guzmán', 'size': 79}, {'name': 'J. Pastore', 'size': 79}, {'name': 'E. Lavezzi', 'size': 79}, {'name': 'D. Valeri', 'size': 79}, {'name': 'D. Benedetto', 'size': 79}, {'name': 'L. Sigali', 'size': 79}, {'name': 'E. Pérez', 'size': 79}, {'name': 'A. Fernández', 'size': 79}, {'name': 'C. Pavón', 'size': 79}, {'name': 'G. Pezzella', 'size': 79}, {'name': 'L. Alario', 'size': 79}, {'name': 'P. Piatti', 'size': 78}, {'name': 'C. Ansaldi', 'size': 78}, {'name': 'G. Pizarro', 'size': 78}, {'name': 'G. Cano', 'size': 78}, {'name': 'C. Izquierdoz', 'size': 78}, {'name': 'A. Donatti', 'size': 78}, {'name': 'I. Fernández', 'size': 78}, {'name': 'N. Domínguez', 'size': 78}, {'name': 'R. Battaglia', 'size': 78}, {'name': 'D. Abraham', 'size': 78}, {'name': 'A. Marchesín', 'size': 78}, {'name': 'M. Rojo', 'size': 78}, {'name': 'R. De Paul', 'size': 78}, {'name': 'J. Musso', 'size': 78}, {'name': 'M. Zaracho', 'size': 78}, {'name': 'C. Tévez', 'size': 78}, {'name': 'J. Sosa', 'size': 78}, {'name': 'J. Pinola', 'size': 78}, {'name': 'M. Zárate', 'size': 78}, {'name': 'R. Saravia', 'size': 78}, {'name': 'G. Martínez', 'size': 78}]}, {'name': 'Brazil', 'children': [{'name': 'Neymar Jr', 'size': 92}, {'name': 'Alisson', 'size': 89}, {'name': 'Ederson', 'size': 88}, {'name': 'Thiago Silva', 'size': 87}, {'name': 'Fernandinho', 'size': 87}, {'name': 'Casemiro', 'size': 87}, {'name': 'Coutinho', 'size': 86}, {'name': 'Roberto Firmino', 'size': 86}, {'name': 'Marquinhos', 'size': 86}, {'name': 'Alex Sandro', 'size': 85}, {'name': 'Marcelo', 'size': 85}, {'name': 'Allan', 'size': 85}, {'name': 'Neto', 'size': 85}, {'name': 'Fabinho', 'size': 85}, {'name': 'Lucas Leiva', 'size': 84}, {'name': 'Paulinho', 'size': 84}, {'name': 'Douglas Costa', 'size': 84}, {'name': 'Felipe', 'size': 84}, {'name': 'Arthur', 'size': 84}, {'name': 'Felipe Anderson', 'size': 84}, {'name': 'Alex Telles', 'size': 84}, {'name': 'David Luiz', 'size': 83}, {'name': 'Ronaldo Cabrais', 'size': 83}, {'name': 'Josué Chiamulera', 'size': 83}, {'name': 'Louri Beretta', 'size': 83}, {'name': 'Lucas Moura', 'size': 83}, {'name': 'Miranda', 'size': 83}, {'name': 'Anderson Talisca', 'size': 83}, {'name': 'Oscar', 'size': 83}, {'name': 'Willian', 'size': 82}, {'name': 'Giuliano', 'size': 82}, {'name': 'Taison', 'size': 82}, {'name': 'Rosberto Dourado', 'size': 82}, {'name': 'Juiano Mestres', 'size': 82}, {'name': 'Raphaelito Anjos', 'size': 82}, {'name': 'Gabriel Jesus', 'size': 82}, {'name': 'Gabriel Paulista', 'size': 82}, {'name': 'Willian José', 'size': 82}, {'name': 'Jardel', 'size': 81}, {'name': 'Renato Augusto', 'size': 81}, {'name': 'Fernando', 'size': 81}, {'name': 'Laure Santeiro', 'size': 81}, {'name': 'Luiz Gustavo', 'size': 81}, {'name': 'Rafinha', 'size': 81}, {'name': 'David Neres', 'size': 81}, {'name': 'Éder Militão', 'size': 81}, {'name': 'Thiago Mendes', 'size': 81}, {'name': 'Sidnei', 'size': 80}, {'name': 'Charles', 'size': 80}, {'name': 'Naldo', 'size': 80}, {'name': 'Ismaily', 'size': 80}, {'name': 'Bernard', 'size': 80}, {'name': 'Everton Andrão', 'size': 80}, {'name': 'Welington Dano', 'size': 80}, {'name': 'Hulk', 'size': 80}, {'name': 'Gabriel', 'size': 80}, {'name': 'Mariano', 'size': 79}, {'name': 'Alex Teixeira', 'size': 79}, {'name': 'Dante', 'size': 79}, {'name': 'Melvin Parrela', 'size': 79}, {'name': 'Maicon', 'size': 79}, {'name': 'Soares', 'size': 79}, {'name': 'Raúl', 'size': 79}, {'name': 'Petros', 'size': 79}, {'name': 'Maikel Catarino', 'size': 79}, {'name': 'Antônio Chiamuloira', 'size': 79}, {'name': 'Gabri Prestão', 'size': 79}, {'name': 'Luimo Boas Santos', 'size': 79}, {'name': 'Elkeson', 'size': 79}, {'name': 'Danilo', 'size': 79}, {'name': 'Leo Baptistao', 'size': 79}, {'name': 'Wesley', 'size': 79}, {'name': 'Otávio', 'size': 79}, {'name': 'Richarlison', 'size': 79}, {'name': 'Vinícius Jr.', 'size': 79}, {'name': 'Lucas Paquetá', 'size': 79}, {'name': 'Fred', 'size': 79}, {'name': 'Diego Carlos', 'size': 79}, {'name': 'Raphinha', 'size': 79}, {'name': 'Rafael Carioca', 'size': 78}, {'name': 'Alan Carvalho', 'size': 78}, {'name': 'Souza', 'size': 78}, {'name': 'Rafael', 'size': 78}, {'name': 'Marcelo', 'size': 78}, {'name': 'Marcelo Goiano', 'size': 78}, {'name': 'Ronaldo Esler', 'size': 78}, {'name': 'Claudio Coíntra', 'size': 78}, {'name': 'Everticinho', 'size': 78}, {'name': 'Sidney Pessinho', 'size': 78}, {'name': 'Naldo', 'size': 78}, {'name': 'Joelinton', 'size': 78}, {'name': 'Bruno Viana', 'size': 78}, {'name': 'Raffael', 'size': 78}, {'name': 'Hilton', 'size': 78}, {'name': 'Rafael Tolói', 'size': 78}, {'name': 'Fernando', 'size': 78}, {'name': 'Douglas', 'size': 77}]}, {'name': 'Uruguay', 'children': [{'name': 'L. Suárez', 'size': 89}, {'name': 'D. Godín', 'size': 88}, {'name': 'E. Cavani', 'size': 88}, {'name': 'J. Giménez', 'size': 85}, {'name': 'J. Sildero', 'size': 82}, {'name': 'E. Schetino', 'size': 82}, {'name': 'S. Coates', 'size': 82}, {'name': 'L. Torreira', 'size': 82}, {'name': 'F. Muslera', 'size': 81}, {'name': 'L. Dálves', 'size': 81}, {'name': 'S. Ardero', 'size': 81}, {'name': 'J. Frendado', 'size': 81}, {'name': 'J. Serendero', 'size': 80}, {'name': 'M. Baldona', 'size': 80}, {'name': 'M. Nérez', 'size': 80}, {'name': 'M. Gómez', 'size': 80}, {'name': 'M. Vecino', 'size': 80}, {'name': 'C. Stuani', 'size': 79}, {'name': 'D. Lenzado', 'size': 79}, {'name': 'E. Riquero', 'size': 79}, {'name': 'L. Sáreda', 'size': 79}, {'name': 'E. Aguerro', 'size': 79}, {'name': 'D. Suárez', 'size': 79}, {'name': 'R. Bentancur', 'size': 79}, {'name': 'L. Cabrera', 'size': 79}, {'name': 'M. Cáceres', 'size': 78}, {'name': 'M. Campaña', 'size': 78}, {'name': 'E. Guichón', 'size': 78}, {'name': 'G. Quintana', 'size': 78}, {'name': 'F. Contedo', 'size': 78}, {'name': 'S. García', 'size': 78}, {'name': 'N. Lodeiro', 'size': 78}, {'name': 'G. Ramírez', 'size': 78}, {'name': 'D. Laxalt', 'size': 78}]}, {'name': 'Colombia', 'children': [{'name': 'J. Rodríguez', 'size': 85}, {'name': 'Falcao', 'size': 83}, {'name': 'J. Cuadrado', 'size': 83}, {'name': 'D. Sánchez', 'size': 83}, {'name': 'D. Zapata', 'size': 82}, {'name': 'D. Ospina', 'size': 80}, {'name': 'L. Muriel', 'size': 80}, {'name': 'J. Quintero', 'size': 80}, {'name': 'C. Bacca', 'size': 79}, {'name': 'S. Arias', 'size': 79}, {'name': 'J. Lerma', 'size': 79}, {'name': 'J. Murillo', 'size': 79}, {'name': 'C. Zapata', 'size': 78}, {'name': 'F. Fabra', 'size': 78}, {'name': 'W. Barrios', 'size': 78}, {'name': 'Y. Mina', 'size': 78}]}, {'name': 'Chile', 'children': [{'name': 'A. Vidal', 'size': 84}, {'name': 'C. Aránguiz', 'size': 83}, {'name': 'A. Sánchez', 'size': 82}, {'name': 'M. Díaz', 'size': 80}, {'name': 'F. Orellana', 'size': 79}, {'name': 'G. Arias', 'size': 78}, {'name': 'G. Medel', 'size': 78}, {'name': 'E. Pulgar', 'size': 78}, {'name': 'G. Maripán', 'size': 78}]}, {'name': 'Ecuador', 'children': [{'name': 'S. Mandíquez', 'size': 81}, {'name': 'F. Caicedo', 'size': 78}]}, {'name': 'Venezuela', 'children': [{'name': 'J. Martínez', 'size': 81}, {'name': 'S. Rondón', 'size': 79}]}, {'name': 'Paraguay', 'children': [{'name': 'M. Almirón', 'size': 80}, {'name': 'F. Balbuena', 'size': 79}]}, {'name': 'Peru', 'children': [{'name': 'A. Carrillo', 'size': 78}]}]}, {'name': 'Europe', 'children': [{'name': 'Portugal', 'children': [{'name': 'Cristiano Ronaldo', 'size': 93}, {'name': 'Bernardo Silva', 'size': 87}, {'name': 'Bruno Fernandes', 'size': 85}, {'name': 'A. Lopes', 'size': 85}, {'name': 'Pizzi', 'size': 84}, {'name': 'João Cancelo', 'size': 84}, {'name': 'Pepe', 'size': 84}, {'name': 'João Moutinho', 'size': 84}, {'name': 'Rui Patrício', 'size': 83}, {'name': 'Danilo Pereira', 'size': 83}, {'name': 'Gonçalo Guedes', 'size': 83}, {'name': 'William Carvalho', 'size': 83}, {'name': 'Rafa', 'size': 82}, {'name': 'Gelson Martins', 'size': 82}, {'name': 'Nélson Semedo', 'size': 82}, {'name': 'Rúben Neves', 'size': 82}, {'name': 'Ricardo Pereira', 'size': 82}, {'name': 'José Fonte', 'size': 81}, {'name': 'André Almeida', 'size': 81}, {'name': 'Quaresma', 'size': 81}, {'name': 'João Mário', 'size': 81}, {'name': 'R. Guerreiro', 'size': 81}, {'name': 'Antunes', 'size': 80}, {'name': 'Nani', 'size': 80}, {'name': 'Rony Lopes', 'size': 80}, {'name': 'André Gomes', 'size': 80}, {'name': 'João Félix', 'size': 80}, {'name': 'Rúben Dias', 'size': 80}, {'name': 'Diogo Jota', 'size': 80}, {'name': 'Dyego Sousa', 'size': 79}, {'name': 'Mário Rui', 'size': 79}, {'name': 'André Silva', 'size': 79}, {'name': 'Ricardo Horta', 'size': 79}, {'name': 'Adrien Silva', 'size': 78}, {'name': 'Daniel Carriço', 'size': 78}, {'name': 'Rúben Vezo', 'size': 78}, {'name': 'José Sá', 'size': 78}, {'name': 'Ferro', 'size': 78}, {'name': 'Daniel Podence', 'size': 78}, {'name': 'Sérgio Oliveira', 'size': 78}, {'name': 'Bruma', 'size': 78}, {'name': 'Pedro Mendes', 'size': 78}, {'name': 'Miguel Veloso', 'size': 77}]}, {'name': 'Slovenia', 'children': [{'name': 'J. Oblak', 'size': 91}, {'name': 'S. Handanovič', 'size': 88}, {'name': 'J. Iličić', 'size': 84}, {'name': 'K. Kampl', 'size': 83}, {'name': 'V. Birsa', 'size': 78}, {'name': 'B. Verbič', 'size': 78}]}, {'name': 'Belgium', 'children': [{'name': 'E. Hazard', 'size': 91}, {'name': 'K. De Bruyne', 'size': 91}, {'name': 'T. Courtois', 'size': 88}, {'name': 'J. Vertonghen', 'size': 87}, {'name': 'D. Mertens', 'size': 87}, {'name': 'T. Alderweireld', 'size': 87}, {'name': 'A. Witsel', 'size': 85}, {'name': 'R. Lukaku', 'size': 85}, {'name': 'R. Nainggolan', 'size': 83}, {'name': 'V. Kompany', 'size': 83}, {'name': 'K. Casteels', 'size': 83}, {'name': 'Y. Carrasco', 'size': 83}, {'name': 'T. Meunier', 'size': 82}, {'name': 'T. Hazard', 'size': 82}, {'name': 'M. Dembélé', 'size': 81}, {'name': 'Y. Tielemans', 'size': 80}, {'name': 'H. Vanaken', 'size': 80}, {'name': 'J. Denayer', 'size': 79}, {'name': 'A. Januzaj', 'size': 79}, {'name': 'L. Trossard', 'size': 79}, {'name': 'M. Batshuayi', 'size': 79}, {'name': 'S. Defour', 'size': 78}, {'name': 'K. Mirallas', 'size': 78}, {'name': 'S. Mignolet', 'size': 78}, {'name': 'T. Vermaelen', 'size': 78}, {'name': 'D. Origi', 'size': 78}, {'name': 'L. Dendoncker', 'size': 78}, {'name': 'M. Sels', 'size': 78}, {'name': 'C. Kabasele', 'size': 78}]}, {'name': 'Germany', 'children': [{'name': 'M. ter Stegen', 'size': 90}, {'name': 'M. Reus', 'size': 88}, {'name': 'T. Kroos', 'size': 88}, {'name': 'M. Neuer', 'size': 88}, {'name': 'M. Hummels', 'size': 87}, {'name': 'T. Müller', 'size': 86}, {'name': 'L. Sané', 'size': 86}, {'name': 'J. Kimmich', 'size': 86}, {'name': 'N. Süle', 'size': 85}, {'name': 'J. Boateng', 'size': 84}, {'name': 'M. Özil', 'size': 84}, {'name': 'I. Gündoğan', 'size': 84}, {'name': 'K. Havertz', 'size': 84}, {'name': 'L. Goretzka', 'size': 84}, {'name': 'J. Brandt', 'size': 84}, {'name': 'S. Gnabry', 'size': 84}, {'name': 'B. Leno', 'size': 84}, {'name': 'S. Khedira', 'size': 83}, {'name': 'M. Kruse', 'size': 83}, {'name': 'T. Werner', 'size': 83}, {'name': 'J. Tah', 'size': 83}, {'name': 'K. Trapp', 'size': 83}, {'name': 'J. Draxler', 'size': 83}, {'name': 'K. Bellarabi', 'size': 82}, {'name': 'K. Demirbay', 'size': 82}, {'name': 'K. Volland', 'size': 82}, {'name': 'N. Schulz', 'size': 82}, {'name': 'O. Baumann', 'size': 82}, {'name': 'M. Götze', 'size': 82}, {'name': 'A. Rüdiger', 'size': 82}, {'name': 'B. Höwedes', 'size': 81}, {'name': 'E. Can', 'size': 81}, {'name': 'M. Ginter', 'size': 81}, {'name': 'T. Horn', 'size': 81}, {'name': 'L. Bender', 'size': 80}, {'name': 'S. Bender', 'size': 80}, {'name': 'R. Fährmann', 'size': 80}, {'name': 'L. Stindl', 'size': 80}, {'name': 'K. Vogt', 'size': 80}, {'name': 'M. Eggestein', 'size': 80}, {'name': 'J. Weigl', 'size': 80}, {'name': 'C. Kramer', 'size': 80}, {'name': 'M. Halstenberg', 'size': 80}, {'name': 'S. Ulreich', 'size': 79}, {'name': 'J. Hector', 'size': 79}, {'name': 'L. Klostermann', 'size': 79}, {'name': 'N. Stark', 'size': 79}, {'name': 'T. Kehrer', 'size': 79}, {'name': 'S. Mustafi', 'size': 79}, {'name': 'D. da Costa', 'size': 79}, {'name': 'M. Arnold', 'size': 79}, {'name': 'L. Karius', 'size': 79}, {'name': 'N. Petersen', 'size': 78}, {'name': 'R. Zieler', 'size': 78}, {'name': 'D. Schwaab', 'size': 78}, {'name': 'S. Wagner', 'size': 78}, {'name': 'B. Hübner', 'size': 78}, {'name': 'S. Rudy', 'size': 78}, {'name': 'P. Groß', 'size': 78}, {'name': 'D. Ginczek', 'size': 78}, {'name': 'D. Didavi', 'size': 78}, {'name': 'S. Rode', 'size': 78}, {'name': 'M. Meyer', 'size': 78}, {'name': 'D. Selke', 'size': 78}, {'name': 'F. Neuhaus', 'size': 78}, {'name': 'N. Amiri', 'size': 78}, {'name': 'M. Dahoud', 'size': 78}, {'name': 'M. Uth', 'size': 78}, {'name': 'D. Demme', 'size': 78}, {'name': 'A. Schwolow', 'size': 78}, {'name': 'J. Hofmann', 'size': 78}]}, {'name': 'Netherlands', 'children': [{'name': 'V. van Dijk', 'size': 90}, {'name': 'M. de Ligt', 'size': 85}, {'name': 'F. de Jong', 'size': 85}, {'name': 'G. Wijnaldum', 'size': 84}, {'name': 'M. Depay', 'size': 84}, {'name': 'S. de Vrij', 'size': 84}, {'name': 'D. Blind', 'size': 83}, {'name': 'J. Cillessen', 'size': 83}, {'name': 'B. Dost', 'size': 82}, {'name': 'Q. Promes', 'size': 82}, {'name': 'L. de Jong', 'size': 82}, {'name': 'S. Bergwijn', 'size': 82}, {'name': 'D. van de Beek', 'size': 81}, {'name': 'W. Weghorst', 'size': 81}, {'name': 'K. Strootman', 'size': 80}, {'name': 'S. Berghuis', 'size': 80}, {'name': 'N. Aké', 'size': 80}, {'name': 'D. Klaassen', 'size': 80}, {'name': 'J. Zoet', 'size': 80}, {'name': 'R. Vormer', 'size': 79}, {'name': 'J. Veltman', 'size': 79}, {'name': 'M. de Roon', 'size': 78}, {'name': 'J. Gouweleeuw', 'size': 78}, {'name': 'D. Dumfries', 'size': 78}, {'name': 'T. Vilhena', 'size': 78}, {'name': 'K. Rekik', 'size': 78}, {'name': 'R. Babel', 'size': 78}, {'name': 'J. Boëtius', 'size': 78}, {'name': 'H. Hateboer', 'size': 78}, {'name': 'J. Lens', 'size': 77}]}, {'name': 'Croatia', 'children': [{'name': 'L. Modrić', 'size': 90}, {'name': 'I. Rakitić', 'size': 86}, {'name': 'I. Perišić', 'size': 84}, {'name': 'M. Mandžukić', 'size': 84}, {'name': 'A. Kramarić', 'size': 83}, {'name': 'V. Ćorluka', 'size': 82}, {'name': 'M. Kovačić', 'size': 82}, {'name': 'M. Brozović', 'size': 81}, {'name': 'S. Vrsaljko', 'size': 80}, {'name': 'D. Subašić', 'size': 80}, {'name': 'D. Lovren', 'size': 80}, {'name': 'D. Vida', 'size': 80}, {'name': 'D. Livaković', 'size': 80}, {'name': 'A. Rebić', 'size': 80}, {'name': 'N. Kalinić', 'size': 79}, {'name': 'M. Badelj', 'size': 79}]}, {'name': 'France', 'children': [{'name': 'A. Griezmann', 'size': 89}, {'name': 'N. Kanté', 'size': 89}, {'name': 'K. Mbappé', 'size': 89}, {'name': 'H. Lloris', 'size': 88}, {'name': 'P. Pogba', 'size': 88}, {'name': 'K. Benzema', 'size': 87}, {'name': 'A. Laporte', 'size': 87}, {'name': 'A. Lacazette', 'size': 86}, {'name': 'S. Umtiti', 'size': 86}, {'name': 'B. Matuidi', 'size': 85}, {'name': 'R. Varane', 'size': 85}, {'name': 'C. Lenglet', 'size': 85}, {'name': 'K. Coman', 'size': 84}, {'name': 'S. Ruffier', 'size': 84}, {'name': 'O. Dembélé', 'size': 84}, {'name': 'L. Hernández', 'size': 84}, {'name': 'N. Fekir', 'size': 84}, {'name': 'W. Ben Yedder', 'size': 83}, {'name': 'F. Thauvin', 'size': 83}, {'name': 'A. Rabiot', 'size': 83}, {'name': 'C. Tolisso', 'size': 83}, {'name': 'A. Martial', 'size': 83}, {'name': 'T. Lemar', 'size': 83}, {'name': 'S. Haller', 'size': 83}, {'name': 'L. Digne', 'size': 83}, {'name': 'O. Giroud', 'size': 82}, {'name': 'B. Lecomte', 'size': 82}, {'name': 'A. Areola', 'size': 82}, {'name': 'P. Kimpembe', 'size': 82}, {'name': 'J. Roussillon', 'size': 82}, {'name': 'M. Sissoko', 'size': 81}, {'name': 'D. Payet', 'size': 81}, {'name': 'K. Gameiro', 'size': 81}, {'name': 'L. Koscielny', 'size': 81}, {'name': 'B. Gomis', 'size': 81}, {'name': 'J. Mathieu', 'size': 81}, {'name': 'T. Ndombele', 'size': 81}, {'name': 'H. Aouar', 'size': 81}, {'name': 'A. Doucouré', 'size': 81}, {'name': 'A. Plea', 'size': 81}, {'name': 'M. Valbuena', 'size': 80}, {'name': 'E. Capoue', 'size': 80}, {'name': 'S. Mandanda', 'size': 80}, {'name': 'L. Perrin', 'size': 80}, {'name': 'A. Gignac', 'size': 80}, {'name': 'B. Costil', 'size': 80}, {'name': \"Y. M'Vila\", 'size': 80}, {'name': 'S. Nzonzi', 'size': 80}, {'name': 'F. Coquelin', 'size': 80}, {'name': 'T. Bakayoko', 'size': 80}, {'name': 'B. Mendy', 'size': 80}, {'name': 'K. Zouma', 'size': 80}, {'name': 'M. Dembélé', 'size': 80}, {'name': 'M. Maignan', 'size': 80}, {'name': 'F. Mendy', 'size': 80}, {'name': 'V. Rongier', 'size': 80}, {'name': 'J. Guilavogui', 'size': 80}, {'name': 'A. Modeste', 'size': 79}, {'name': 'M. Debuchy', 'size': 79}, {'name': 'T. Savanier', 'size': 79}, {'name': 'N. Pallois', 'size': 79}, {'name': 'A. Diallo', 'size': 79}, {'name': 'B. Pavard', 'size': 79}, {'name': 'A. Lafont', 'size': 79}, {'name': 'I. Konaté', 'size': 79}, {'name': 'D. Zagadou', 'size': 79}, {'name': 'A. Saint-Maximin', 'size': 79}, {'name': 'R. Aguilar', 'size': 79}, {'name': 'W. Boly', 'size': 79}, {'name': 'M. Sakho', 'size': 79}, {'name': 'K. Lala', 'size': 79}, {'name': 'M. Sanson', 'size': 79}, {'name': 'L. Dubois', 'size': 79}, {'name': 'C. Grenier', 'size': 78}, {'name': 'D. Da Silva', 'size': 78}, {'name': 'B. André', 'size': 78}, {'name': 'B. Stambouli', 'size': 78}, {'name': 'K. Malcuit', 'size': 78}, {'name': 'G. Defrel', 'size': 78}, {'name': 'S. Nasri', 'size': 78}, {'name': 'G. Laborde', 'size': 78}, {'name': 'B. Santamaria', 'size': 78}, {'name': 'L. Tousart', 'size': 78}, {'name': 'I. Amadou', 'size': 78}, {'name': 'I. Diop', 'size': 78}, {'name': 'J. Ikoné', 'size': 78}, {'name': 'J. Bamba', 'size': 78}, {'name': 'J. Mateta', 'size': 78}, {'name': 'F. Mollet', 'size': 78}, {'name': 'F. Tait', 'size': 78}, {'name': 'G. Hoarau', 'size': 78}, {'name': 'F. Lejeune', 'size': 78}, {'name': 'A. Soumaoro', 'size': 78}, {'name': 'J. Veretout', 'size': 78}, {'name': 'S. Meïté', 'size': 78}, {'name': 'C. Hérelle', 'size': 78}, {'name': 'S. De Maio', 'size': 77}, {'name': 'L. Rémy', 'size': 77}]}, {'name': 'Spain', 'children': [{'name': 'Sergio Busquets', 'size': 89}, {'name': 'Sergio Ramos', 'size': 89}, {'name': 'De Gea', 'size': 89}, {'name': 'David Silva', 'size': 88}, {'name': 'Piqué', 'size': 88}, {'name': 'Thiago', 'size': 87}, {'name': 'Jordi Alba', 'size': 87}, {'name': 'Parejo', 'size': 86}, {'name': 'Isco', 'size': 86}, {'name': 'Carvajal', 'size': 85}, {'name': 'Iago Aspas', 'size': 85}, {'name': 'Koke', 'size': 85}, {'name': 'Saúl', 'size': 85}, {'name': 'Rodri', 'size': 85}, {'name': 'Javi Martínez', 'size': 84}, {'name': 'José Callejón', 'size': 84}, {'name': 'Azpilicueta', 'size': 84}, {'name': 'Canales', 'size': 84}, {'name': 'Kepa', 'size': 84}, {'name': 'Luis Alberto', 'size': 84}, {'name': 'Diego Costa', 'size': 83}, {'name': 'Raúl Albiol', 'size': 83}, {'name': 'Casillas', 'size': 83}, {'name': 'Rodrigo', 'size': 83}, {'name': 'Illarramendi', 'size': 83}, {'name': 'Pau López', 'size': 83}, {'name': 'Fabián', 'size': 83}, {'name': 'Pablo Sarabia', 'size': 83}, {'name': 'Grimaldo', 'size': 83}, {'name': 'Paco Alcácer', 'size': 83}, {'name': 'Bartra', 'size': 83}, {'name': 'Morata', 'size': 83}, {'name': 'Borja Iglesias', 'size': 83}, {'name': 'Marco Asensio', 'size': 83}, {'name': 'Juan Mata', 'size': 82}, {'name': 'Pepe Reina', 'size': 82}, {'name': 'Santi Cazorla', 'size': 82}, {'name': 'Jesús Navas', 'size': 82}, {'name': 'Aduriz', 'size': 82}, {'name': 'Morales', 'size': 82}, {'name': 'Ander Herrera', 'size': 82}, {'name': 'Pedro', 'size': 82}, {'name': 'Iñaki Williams', 'size': 82}, {'name': 'Oyarzabal', 'size': 82}, {'name': 'Suso', 'size': 82}, {'name': 'Nacho Fernández', 'size': 82}, {'name': 'Sergi Roberto', 'size': 82}, {'name': 'Muniain', 'size': 82}, {'name': 'Pacheco', 'size': 82}, {'name': 'David Soria', 'size': 82}, {'name': 'Sergio Asenjo', 'size': 82}, {'name': 'Beñat', 'size': 81}, {'name': 'Cesc Fàbregas', 'size': 81}, {'name': 'Dani García', 'size': 81}, {'name': 'Lucas Vázquez', 'size': 81}, {'name': 'Marcos Alonso', 'size': 81}, {'name': 'Adán', 'size': 81}, {'name': 'Gayà', 'size': 81}, {'name': 'Pablo Fornals', 'size': 81}, {'name': 'Dani Ceballos', 'size': 81}, {'name': 'Gerard Moreno', 'size': 81}, {'name': 'Jordi Masip', 'size': 81}, {'name': 'Pedro León', 'size': 80}, {'name': 'Diego López', 'size': 80}, {'name': 'Jorge Molina', 'size': 80}, {'name': 'Raúl García', 'size': 80}, {'name': 'Pozuelo', 'size': 80}, {'name': 'Jony', 'size': 80}, {'name': 'Moyá', 'size': 80}, {'name': 'Cristian Tello', 'size': 80}, {'name': 'Sergi Enrich', 'size': 80}, {'name': 'Ibai Gómez', 'size': 80}, {'name': 'Mata', 'size': 80}, {'name': 'Santi Mina', 'size': 80}, {'name': 'Odriozola', 'size': 80}, {'name': 'Sergi Darder', 'size': 80}, {'name': 'Héctor Bellerín', 'size': 80}, {'name': 'Yeray', 'size': 80}, {'name': 'Joaquín', 'size': 80}, {'name': 'Mario Hermoso', 'size': 80}, {'name': 'Carlos Soler', 'size': 80}, {'name': 'Marcos Llorente', 'size': 80}, {'name': 'Melendo', 'size': 80}, {'name': 'Loren', 'size': 80}, {'name': 'Portu', 'size': 80}, {'name': 'Manu Trigueros', 'size': 80}, {'name': 'Iñigo Martínez', 'size': 80}, {'name': 'Sergi Gómez', 'size': 80}, {'name': 'Samu Castillejo', 'size': 80}, {'name': 'Campaña', 'size': 80}, {'name': 'Deulofeu', 'size': 80}, {'name': 'Bernat', 'size': 80}, {'name': 'Yuri Berchiche', 'size': 79}, {'name': 'Cote', 'size': 79}, {'name': 'Guaita', 'size': 79}, {'name': 'Ángel', 'size': 79}, {'name': 'Granero', 'size': 79}, {'name': 'Nacho Monreal', 'size': 79}, {'name': 'David Villa', 'size': 79}, {'name': 'Borja Valero', 'size': 79}, {'name': 'Marcano', 'size': 79}, {'name': 'Iago Falqué', 'size': 79}, {'name': 'Rubén Peña', 'size': 79}, {'name': 'Rubén Alcaraz', 'size': 79}, {'name': 'Kike García', 'size': 79}, {'name': 'Escudero', 'size': 79}, {'name': 'Mario Gaspar', 'size': 79}, {'name': 'Herrerín', 'size': 79}, {'name': 'Víctor Ruiz', 'size': 79}, {'name': 'Vitolo', 'size': 79}, {'name': 'Roque Mesa', 'size': 79}, {'name': 'Junior Firpo', 'size': 79}, {'name': 'De Tomás', 'size': 79}, {'name': 'Munir', 'size': 79}, {'name': 'Angeliño', 'size': 79}, {'name': 'Merino', 'size': 79}, {'name': 'Dani Olmo', 'size': 79}, {'name': 'Marc Roca', 'size': 79}, {'name': 'Laguardia', 'size': 79}, {'name': 'Jonny', 'size': 79}, {'name': 'Mikel San José', 'size': 78}, {'name': 'Bruno', 'size': 78}, {'name': 'Camacho', 'size': 78}, {'name': 'Iborra', 'size': 78}, {'name': 'Manu García', 'size': 78}, {'name': 'Coke', 'size': 78}, {'name': 'De Marcos', 'size': 78}, {'name': 'Jaume Costa', 'size': 78}, {'name': 'Hugo Mallo', 'size': 78}, {'name': 'Nolito', 'size': 78}, {'name': 'Álvaro', 'size': 78}, {'name': 'Óliver Torres', 'size': 78}, {'name': 'Joan Jordán', 'size': 78}, {'name': 'Denis Suárez', 'size': 78}, {'name': 'Calero', 'size': 78}, {'name': 'Aarón Martín', 'size': 78}, {'name': 'Capa', 'size': 78}, {'name': 'David López', 'size': 78}, {'name': 'Andrés Fernández', 'size': 78}, {'name': 'Ayoze Pérez', 'size': 78}, {'name': 'Joel Robles', 'size': 78}, {'name': 'Omar Mascarell', 'size': 78}]}, {'name': 'Poland', 'children': [{'name': 'R. Lewandowski', 'size': 89}, {'name': 'W. Szczęsny', 'size': 86}, {'name': 'A. Milik', 'size': 83}, {'name': 'L. Fabiański', 'size': 82}, {'name': 'L. Piszczek', 'size': 81}, {'name': 'P. Zieliński', 'size': 81}, {'name': 'K. Glik', 'size': 80}, {'name': 'K. Piątek', 'size': 80}, {'name': 'G. Krychowiak', 'size': 78}]}, {'name': 'Italy', 'children': [{'name': 'G. Chiellini', 'size': 89}, {'name': 'L. Insigne', 'size': 87}, {'name': 'L. Bonucci', 'size': 86}, {'name': 'C. Immobile', 'size': 86}, {'name': 'M. Verratti', 'size': 86}, {'name': 'G. Donnarumma', 'size': 85}, {'name': 'S. Sirigu', 'size': 84}, {'name': 'F. Quagliarella', 'size': 83}, {'name': 'G. Buffon', 'size': 83}, {'name': 'Jorginho', 'size': 83}, {'name': 'F. Acerbi', 'size': 83}, {'name': 'A. Romagnoli', 'size': 83}, {'name': 'F. Bernardeschi', 'size': 83}, {'name': 'M. Balotelli', 'size': 82}, {'name': 'E. Viviano', 'size': 82}, {'name': 'D. De Rossi', 'size': 82}, {'name': 'G. Bonaventura', 'size': 82}, {'name': 'S. El Shaarawy', 'size': 82}, {'name': 'M. Politano', 'size': 82}, {'name': 'D. Rugani', 'size': 82}, {'name': 'M. Perin', 'size': 82}, {'name': 'A. Belotti', 'size': 82}, {'name': 'A. Consigli', 'size': 81}, {'name': 'M. Parolo', 'size': 81}, {'name': 'S. Giovinco', 'size': 81}, {'name': 'A. Florenzi', 'size': 81}, {'name': 'A. Cragno', 'size': 81}, {'name': 'A. Izzo', 'size': 81}, {'name': 'S. Zaza', 'size': 80}, {'name': 'S. Verdi', 'size': 80}, {'name': 'N. Barella', 'size': 80}, {'name': 'M. Caldara', 'size': 80}, {'name': 'M. Lazzari', 'size': 80}, {'name': 'Éder', 'size': 79}, {'name': 'D. Zappacosta', 'size': 79}, {'name': 'A. Mirante', 'size': 79}, {'name': 'D. Criscito', 'size': 79}, {'name': 'A. Candreva', 'size': 79}, {'name': 'D. Caligiuri', 'size': 79}, {'name': 'D. Baselli', 'size': 79}, {'name': 'L. Pellegrini', 'size': 79}, {'name': 'F. Chiesa', 'size': 79}, {'name': 'L. Spinazzola', 'size': 79}, {'name': 'A. Masiello', 'size': 78}, {'name': 'L. Pavoletti', 'size': 78}, {'name': 'R. Soriano', 'size': 78}, {'name': 'A. Meret', 'size': 78}, {'name': 'B. Cristante', 'size': 78}, {'name': 'V. Grifo', 'size': 78}, {'name': 'D. Berardi', 'size': 78}, {'name': 'R. Gagliardini', 'size': 78}]}, {'name': 'England', 'children': [{'name': 'H. Kane', 'size': 89}, {'name': 'R. Sterling', 'size': 88}, {'name': 'K. Walker', 'size': 84}, {'name': 'D. Alli', 'size': 84}, {'name': 'J. Sancho', 'size': 84}, {'name': 'J. Henderson', 'size': 83}, {'name': 'J. Stones', 'size': 83}, {'name': 'M. Rashford', 'size': 83}, {'name': 'T. Alexander-Arnold', 'size': 83}, {'name': 'J. Pickford', 'size': 83}, {'name': 'J. Lingard', 'size': 82}, {'name': 'J. Vardy', 'size': 82}, {'name': 'H. Maguire', 'size': 82}, {'name': 'J. Milner', 'size': 81}, {'name': 'L. Shaw', 'size': 81}, {'name': 'K. Trippier', 'size': 80}, {'name': 'B. Foster', 'size': 80}, {'name': 'T. Heaton', 'size': 80}, {'name': 'D. Rose', 'size': 80}, {'name': 'C. Smalling', 'size': 80}, {'name': 'W. Rooney', 'size': 80}, {'name': 'J. Gomez', 'size': 80}, {'name': 'H. Winks', 'size': 80}, {'name': 'C. Wilson', 'size': 80}, {'name': 'A. Oxlade-Chamberlain', 'size': 80}, {'name': 'M. Keane', 'size': 80}, {'name': 'A. Lallana', 'size': 79}, {'name': 'J. Wilshere', 'size': 79}, {'name': 'B. Chilwell', 'size': 79}, {'name': 'J. Ward-Prowse', 'size': 79}, {'name': 'J. Maddison', 'size': 79}, {'name': 'R. Loftus-Cheek', 'size': 79}, {'name': 'A. Wan-Bissaka', 'size': 79}, {'name': 'P. Jones', 'size': 79}, {'name': 'J. Tarkowski', 'size': 79}, {'name': 'E. Dier', 'size': 79}, {'name': 'R. Barkley', 'size': 79}, {'name': 'N. Pope', 'size': 79}, {'name': 'A. Barnes', 'size': 78}, {'name': 'D. Welbeck', 'size': 78}, {'name': 'T. Deeney', 'size': 78}, {'name': 'B. Mee', 'size': 78}, {'name': 'R. Bertrand', 'size': 78}, {'name': 'J. Tomkins', 'size': 78}, {'name': 'N. Clyne', 'size': 78}, {'name': 'M. Antonio', 'size': 78}, {'name': 'S. Cook', 'size': 78}, {'name': 'A. Townsend', 'size': 78}, {'name': 'J. Lascelles', 'size': 78}, {'name': 'J. Butland', 'size': 78}, {'name': 'D. Rice', 'size': 78}, {'name': 'L. Dunk', 'size': 78}]}, {'name': 'Denmark', 'children': [{'name': 'C. Eriksen', 'size': 88}, {'name': 'K. Schmeichel', 'size': 83}, {'name': 'S. Kjær', 'size': 82}, {'name': 'T. Delaney', 'size': 82}, {'name': 'Y. Poulsen', 'size': 81}, {'name': 'D. Wass', 'size': 80}, {'name': 'A. Christensen', 'size': 80}, {'name': 'J. Andersen', 'size': 78}, {'name': 'J. Vestergaard', 'size': 78}, {'name': 'V. Fischer', 'size': 78}]}, {'name': 'Bosnia Herzegovina', 'children': [{'name': 'M. Pjanić', 'size': 86}, {'name': 'E. Džeko', 'size': 84}, {'name': 'E. Višća', 'size': 84}, {'name': 'S. Lulić', 'size': 79}, {'name': 'S. Kolašinac', 'size': 79}]}, {'name': 'Slovakia', 'children': [{'name': 'M. Škriniar', 'size': 86}, {'name': 'M. Hamšík', 'size': 84}, {'name': 'M. Dúbravka', 'size': 80}, {'name': 'M. Škrtel', 'size': 79}, {'name': 'S. Lobotka', 'size': 79}]}, {'name': 'Austria', 'children': [{'name': 'D. Alaba', 'size': 85}, {'name': 'M. Arnautović', 'size': 82}, {'name': 'M. Sabitzer', 'size': 81}, {'name': 'M. Hinteregger', 'size': 80}, {'name': 'F. Grillitsch', 'size': 79}, {'name': 'J. Baumgartlinger', 'size': 78}, {'name': 'M. Gregoritsch', 'size': 78}]}, {'name': 'Sweden', 'children': [{'name': 'Z. Ibrahimović', 'size': 85}, {'name': 'E. Forsberg', 'size': 82}, {'name': 'V. Lindelöf', 'size': 81}, {'name': 'R. Olsen', 'size': 78}, {'name': 'A. Granqvist', 'size': 78}]}, {'name': 'Wales', 'children': [{'name': 'G. Bale', 'size': 85}, {'name': 'A. Ramsey', 'size': 83}, {'name': 'B. Davies', 'size': 79}]}, {'name': 'Greece', 'children': [{'name': 'K. Manolas', 'size': 85}, {'name': 'Sokratis', 'size': 84}, {'name': 'O. Vlachodimos', 'size': 80}, {'name': 'A. Samaris', 'size': 79}, {'name': 'O. Karnezis', 'size': 78}, {'name': 'J. Holebas', 'size': 78}, {'name': 'K. Fortounis', 'size': 78}]}, {'name': 'Switzerland', 'children': [{'name': 'R. Bürki', 'size': 85}, {'name': 'Y. Sommer', 'size': 84}, {'name': 'M. Akanji', 'size': 83}, {'name': 'X. Shaqiri', 'size': 82}, {'name': 'G. Xhaka', 'size': 81}, {'name': 'R. Rodríguez', 'size': 80}, {'name': 'H. Seferović', 'size': 79}, {'name': 'F. Schär', 'size': 79}, {'name': 'A. Mehmedi', 'size': 78}, {'name': 'M. Hitz', 'size': 78}, {'name': 'D. Zakaria', 'size': 78}, {'name': 'N. Elvedi', 'size': 78}, {'name': 'R. Freuler', 'size': 78}]}, {'name': 'Serbia', 'children': [{'name': 'S. Milinković-Savić', 'size': 85}, {'name': 'D. Tadić', 'size': 84}, {'name': 'L. Jović', 'size': 83}, {'name': 'A. Kolarov', 'size': 82}, {'name': 'F. Kostić', 'size': 82}, {'name': 'N. Matić', 'size': 81}, {'name': 'A. Ljajić', 'size': 81}, {'name': 'L. Milivojević', 'size': 81}, {'name': 'M. Nastasić', 'size': 80}, {'name': 'M. Dmitrović', 'size': 80}, {'name': 'L. Fejsa', 'size': 78}, {'name': 'M. Sulejmani', 'size': 78}, {'name': 'A. Mitrović', 'size': 78}, {'name': 'N. Maksimović', 'size': 78}, {'name': 'N. Maksimović', 'size': 78}]}, {'name': 'Scotland', 'children': [{'name': 'A. Robertson', 'size': 85}, {'name': 'R. Fraser', 'size': 81}, {'name': 'T. Cairney', 'size': 78}]}, {'name': 'Hungary', 'children': [{'name': 'P. Gulácsi', 'size': 85}, {'name': 'W. Orban', 'size': 81}]}, {'name': 'Czech Republic', 'children': [{'name': 'J. Pavlenka', 'size': 84}, {'name': 'T. Vaclík', 'size': 81}, {'name': 'P. Kadeřábek', 'size': 80}, {'name': 'T. Souček', 'size': 79}, {'name': 'M. Suchý', 'size': 77}]}, {'name': 'Norway', 'children': [{'name': 'R. Jarstein', 'size': 83}, {'name': 'S. Berge', 'size': 79}, {'name': 'J. King', 'size': 79}, {'name': 'M. Ødegaard', 'size': 78}]}, {'name': 'Iceland', 'children': [{'name': 'G. Sigurðsson', 'size': 83}, {'name': 'A. Finnbogason', 'size': 78}, {'name': 'J. Guðmundsson', 'size': 78}]}, {'name': 'Finland', 'children': [{'name': 'L. Hrádecký', 'size': 83}, {'name': 'N. Moisander', 'size': 79}]}, {'name': 'Ukraine', 'children': [{'name': 'Marlos', 'size': 82}, {'name': 'T. Stepanenko', 'size': 80}, {'name': 'A. Yarmolenko', 'size': 79}, {'name': 'V. Tsygankov', 'size': 79}, {'name': 'R. Malinovskyi', 'size': 79}, {'name': 'Júnior Moraes', 'size': 78}, {'name': 'O. Zinchenko', 'size': 78}]}, {'name': 'Albania', 'children': [{'name': 'T. Strakosha', 'size': 82}, {'name': 'E. Hysaj', 'size': 80}]}, {'name': 'Montenegro', 'children': [{'name': 'S. Savić', 'size': 82}, {'name': 'S. Jovetić', 'size': 78}]}, {'name': 'Armenia', 'children': [{'name': 'H. Mkhitaryan', 'size': 81}]}, {'name': 'Romania', 'children': [{'name': 'S. Radu', 'size': 80}, {'name': 'C. Tătărușanu', 'size': 79}]}, {'name': 'Republic of Ireland', 'children': [{'name': 'S. Coleman', 'size': 79}, {'name': 'M. Doherty', 'size': 78}, {'name': 'S. Duffy', 'size': 78}]}, {'name': 'Northern Ireland', 'children': [{'name': 'J. Evans', 'size': 79}]}, {'name': 'Kosovo', 'children': [{'name': 'M. Rashica', 'size': 79}]}, {'name': 'FYR Macedonia', 'children': [{'name': 'E. Bardhi', 'size': 78}]}]}, {'name': 'Africa', 'children': [{'name': 'Egypt', 'children': [{'name': 'M. Salah', 'size': 90}]}, {'name': 'Senegal', 'children': [{'name': 'K. Koulibaly', 'size': 89}, {'name': 'S. Mané', 'size': 88}, {'name': 'I. Gueye', 'size': 83}, {'name': 'S. Sané', 'size': 80}, {'name': 'K. Baldé', 'size': 80}, {'name': 'P. Diop', 'size': 78}, {'name': 'I. Sarr', 'size': 78}, {'name': 'M. Diagne', 'size': 78}]}, {'name': 'Gabon', 'children': [{'name': 'P. Aubameyang', 'size': 88}, {'name': 'G. Kanga', 'size': 78}, {'name': 'M. Lemina', 'size': 78}]}, {'name': 'Morocco', 'children': [{'name': 'H. Ziyech', 'size': 85}, {'name': 'Y. Belhanda', 'size': 80}, {'name': 'A. Hamdallah', 'size': 79}, {'name': 'A. Hakimi', 'size': 79}, {'name': 'N. Amrabat', 'size': 78}, {'name': 'Z. Feddal', 'size': 78}]}, {'name': 'Algeria', 'children': [{'name': 'R. Mahrez', 'size': 84}, {'name': 'S. Feghouli', 'size': 80}, {'name': 'F. Ghoulam', 'size': 80}, {'name': 'A. Mandi', 'size': 80}, {'name': 'I. Belfodil', 'size': 79}, {'name': 'R. Boudebouz', 'size': 78}, {'name': 'A. Delort', 'size': 78}]}, {'name': 'Ivory Coast', 'children': [{'name': 'N. Pépé', 'size': 83}, {'name': 'W. Zaha', 'size': 83}, {'name': 'E. Bailly', 'size': 80}, {'name': 'M. Gradel', 'size': 79}, {'name': 'S. Kalou', 'size': 79}, {'name': 'J. Gbamin', 'size': 79}, {'name': 'F. Kessié', 'size': 79}, {'name': 'S. Aurier', 'size': 79}, {'name': 'Gervinho', 'size': 78}, {'name': 'J. Seri', 'size': 78}, {'name': 'S. Deli', 'size': 78}]}, {'name': 'Togo', 'children': [{'name': 'D. Djené', 'size': 83}]}, {'name': 'DR Congo', 'children': [{'name': 'C. Bakambu', 'size': 82}, {'name': 'D. Mbokani', 'size': 78}]}, {'name': 'Cameroon', 'children': [{'name': 'A. Onana', 'size': 82}, {'name': 'J. Matip', 'size': 82}, {'name': 'N. Nkoulou', 'size': 81}, {'name': 'K. Toko-Ekambi', 'size': 79}, {'name': 'V. Aboubakar', 'size': 78}, {'name': 'M. Ngadeu', 'size': 78}]}, {'name': 'Guinea', 'children': [{'name': 'N. Keïta', 'size': 82}]}, {'name': 'Ghana', 'children': [{'name': 'T. Partey', 'size': 82}, {'name': 'K. Asamoah', 'size': 79}, {'name': 'K. Boateng', 'size': 79}]}, {'name': 'Nigeria', 'children': [{'name': 'W. Ndidi', 'size': 81}, {'name': 'A. Iwobi', 'size': 79}, {'name': 'V. Moses', 'size': 78}, {'name': 'H. Onyekuru', 'size': 78}]}, {'name': 'Mali', 'children': [{'name': 'M. Marega', 'size': 80}, {'name': 'D. Samassékou', 'size': 79}]}, {'name': 'Tunisia', 'children': [{'name': 'W. Khazri', 'size': 79}, {'name': 'E. Skhiri', 'size': 78}]}, {'name': 'Cape Verde', 'children': [{'name': 'Zé Luís', 'size': 79}, {'name': 'Djaniny', 'size': 78}, {'name': 'Varela', 'size': 77}]}, {'name': 'Tanzania', 'children': [{'name': 'M. Samatta', 'size': 79}]}, {'name': 'South Africa', 'children': [{'name': 'I. Khune', 'size': 78}]}, {'name': 'Burkina Faso', 'children': [{'name': 'B. Traoré', 'size': 78}]}, {'name': 'Angola', 'children': [{'name': 'Bastos', 'size': 78}]}, {'name': 'Kenya', 'children': [{'name': 'V. Wanyama', 'size': 78}]}]}, {'name': 'North America', 'children': [{'name': 'Costa Rica', 'children': [{'name': 'K. Navas', 'size': 87}]}, {'name': 'Mexico', 'children': [{'name': 'C. Vela', 'size': 83}, {'name': 'H. Herrera', 'size': 82}, {'name': 'H. Lozano', 'size': 82}, {'name': 'A. Guardado', 'size': 81}, {'name': 'J. Corona', 'size': 81}, {'name': 'R. Jiménez', 'size': 80}, {'name': 'J. dos Santos', 'size': 78}, {'name': 'H. Moreno', 'size': 78}, {'name': 'J. Hernández', 'size': 78}, {'name': 'G. Ochoa', 'size': 78}, {'name': 'M. Layún', 'size': 77}]}, {'name': 'Jamaica', 'children': [{'name': 'L. Bailey', 'size': 82}]}, {'name': 'United States', 'children': [{'name': 'C. Pulisic', 'size': 79}, {'name': 'J. Brooks', 'size': 79}]}, {'name': 'Dominican Republic', 'children': [{'name': 'Mariano', 'size': 79}]}]}, {'name': 'Asia', 'children': [{'name': 'Korea Republic', 'children': [{'name': 'H. Son', 'size': 87}]}, {'name': 'Russia', 'children': [{'name': 'Mário Fernandes', 'size': 82}, {'name': 'I. Akinfeev', 'size': 80}, {'name': 'F. Smolov', 'size': 80}, {'name': 'D. Cheryshev', 'size': 79}, {'name': 'A. Golovin', 'size': 79}, {'name': 'R. Zobnin', 'size': 79}, {'name': 'A. Lunev', 'size': 79}, {'name': 'A. Dzyuba', 'size': 78}, {'name': 'Guilherme', 'size': 78}, {'name': 'A. Miranchuk', 'size': 78}, {'name': 'A. Selikhov', 'size': 78}, {'name': 'G. Dzhikiya', 'size': 78}]}, {'name': 'Israel', 'children': [{'name': 'E. Zahavi', 'size': 81}, {'name': 'M. Dabbur', 'size': 80}]}, {'name': 'Japan', 'children': [{'name': 'M. Hasebe', 'size': 80}, {'name': 'S. Kagawa', 'size': 79}, {'name': 'T. Inui', 'size': 79}, {'name': 'S. Nakajima', 'size': 79}, {'name': 'H. Sakai', 'size': 78}]}, {'name': 'Turkey', 'children': [{'name': 'H. Çalhanoğlu', 'size': 80}, {'name': 'O. Toprak', 'size': 79}, {'name': 'B. Yılmaz', 'size': 79}, {'name': 'N. Şahin', 'size': 78}, {'name': 'Y. Yazıcı', 'size': 78}, {'name': 'C. Ünder', 'size': 78}, {'name': 'O. Yokuşlu', 'size': 78}]}, {'name': 'China PR', 'children': [{'name': 'Wu Lei', 'size': 79}]}, {'name': 'Syria', 'children': [{'name': 'O. Al Soma', 'size': 78}]}]}, {'name': 'Australia Oceania', 'children': [{'name': 'Australia', 'children': [{'name': 'M. Ryan', 'size': 80}]}]}]}\n"
     ]
    }
   ],
   "source": [
    "print(data)"
   ]
  },
  {
   "cell_type": "code",
   "execution_count": 19,
   "metadata": {},
   "outputs": [
    {
     "data": {
      "text/plain": [
       "dict"
      ]
     },
     "execution_count": 19,
     "metadata": {},
     "output_type": "execute_result"
    }
   ],
   "source": [
    "type(data)"
   ]
  },
  {
   "cell_type": "code",
   "execution_count": 20,
   "metadata": {},
   "outputs": [],
   "source": [
    "# North_america_dict = {}\n",
    "# North_america_dict['name'] = 'North_america'\n",
    "# North_america_dict['children'] = []\n",
    "# for country in North_america['nationality'].unique():\n",
    "#     list_of_countries = North_america[North_america['nationality']==country][['short_name', 'overall']].rename(columns={'short_name': 'name', 'overall': 'size'})\n",
    "#     tmp_dict = {}\n",
    "#     tmp_dict[\"name\"] = country\n",
    "#     tmp_dict[\"children\"] = []\n",
    "#     for row in list_of_countries.values:\n",
    "#         player_tmp = {}\n",
    "#         player_tmp['name'] = row[0]\n",
    "#         player_tmp['size'] = row[1]\n",
    "#         tmp_dict[\"children\"].append(player_tmp)\n",
    "#     North_america_dict['children'].append(tmp_dict)"
   ]
  },
  {
   "cell_type": "code",
   "execution_count": 21,
   "metadata": {},
   "outputs": [],
   "source": [
    "# North_america_dict"
   ]
  },
  {
   "cell_type": "code",
   "execution_count": 22,
   "metadata": {},
   "outputs": [],
   "source": [
    "html_string = \"\"\"\n",
    "<!DOCTYPE html>\n",
    "<meta charset=\"utf-8\">\n",
    "<style>\n",
    "\n",
    ".node {\n",
    "  cursor: pointer;\n",
    "}\n",
    "\n",
    ".node:hover {\n",
    "  stroke: #000;\n",
    "  stroke-width: 1.5px;\n",
    "}\n",
    "\n",
    ".node--leaf {\n",
    "  fill: white;\n",
    "}\n",
    "\n",
    ".label {\n",
    "  font: 11px \"Helvetica Neue\", Helvetica, Arial, sans-serif;\n",
    "  text-anchor: middle;\n",
    "  text-shadow: 0 1px 0 #fff, 1px 0 0 #fff, -1px 0 0 #fff, 0 -1px 0 #fff;\n",
    "}\n",
    "\n",
    ".label,\n",
    ".node--root,\n",
    ".node--leaf {\n",
    "  pointer-events: none;\n",
    "}\n",
    "\n",
    "</style>\n",
    "<svg width=\"640\" height=\"640\"></svg>\n",
    "\"\"\""
   ]
  },
  {
   "cell_type": "code",
   "execution_count": 23,
   "metadata": {},
   "outputs": [],
   "source": [
    "js_string=\"\"\"\n",
    " require.config({\n",
    "    paths: {\n",
    "        d3: \"https://d3js.org/d3.v4.min\"\n",
    "     }\n",
    " });\n",
    "\n",
    "  require([\"d3\"], function(d3) {\n",
    "\n",
    "   console.log(d3);\n",
    "\n",
    "var svg = d3.select(\"svg\"),\n",
    "    margin = 20,\n",
    "    diameter = +svg.attr(\"width\"),\n",
    "    g = svg.append(\"g\").attr(\"transform\", \"translate(\" + diameter / 2 + \",\" + diameter / 2 + \")\");\n",
    "\n",
    "var color = d3.scaleSequential(d3.interpolateViridis)\n",
    "    .domain([-4, 4]);\n",
    "\n",
    "var pack = d3.pack()\n",
    "    .size([diameter - margin, diameter - margin])\n",
    "    .padding(2);\n",
    "\n",
    "d3.json(\"output.json\", function(error, root) {\n",
    "  if (error) throw error;\n",
    "\n",
    "  root = d3.hierarchy(root)\n",
    "      .sum(function(d) { return d.size; })\n",
    "      .sort(function(a, b) { return b.value - a.value; });\n",
    "\n",
    "  var focus = root,\n",
    "      nodes = pack(root).descendants(),\n",
    "      view;\n",
    "\n",
    "  var circle = g.selectAll(\"circle\")\n",
    "    .data(nodes)\n",
    "    .enter().append(\"circle\")\n",
    "      .attr(\"class\", function(d) { return d.parent ? d.children ? \"node\" : \"node node--leaf\" : \"node node--root\"; })\n",
    "      .style(\"fill\", function(d) { return d.children ? color(d.depth) : null; })\n",
    "      .on(\"click\", function(d) { if (focus !== d) zoom(d), d3.event.stopPropagation(); });\n",
    "\n",
    "  var text = g.selectAll(\"text\")\n",
    "    .data(nodes)\n",
    "    .enter().append(\"text\")\n",
    "      .attr(\"class\", \"label\")\n",
    "      .style(\"fill-opacity\", function(d) { return d.parent === root ? 1 : 0; })\n",
    "      .style(\"display\", function(d) { return d.parent === root ? \"inline\" : \"none\"; })\n",
    "      .text(function(d) { return d.data.name; });\n",
    "\n",
    "  var node = g.selectAll(\"circle,text\");\n",
    "\n",
    "  svg\n",
    "      .style(\"background\", color(-1))\n",
    "      .on(\"click\", function() { zoom(root); });\n",
    "\n",
    "  zoomTo([root.x, root.y, root.r * 2 + margin]);\n",
    "\n",
    "  function zoom(d) {\n",
    "    var focus0 = focus; focus = d;\n",
    "\n",
    "    var transition = d3.transition()\n",
    "        .duration(d3.event.altKey ? 7500 : 750)\n",
    "        .tween(\"zoom\", function(d) {\n",
    "          var i = d3.interpolateZoom(view, [focus.x, focus.y, focus.r * 2 + margin]);\n",
    "          return function(t) { zoomTo(i(t)); };\n",
    "        });\n",
    "\n",
    "    transition.selectAll(\"text\")\n",
    "      .filter(function(d) { return d.parent === focus || this.style.display === \"inline\"; })\n",
    "        .style(\"fill-opacity\", function(d) { return d.parent === focus ? 1 : 0; })\n",
    "        .on(\"start\", function(d) { if (d.parent === focus) this.style.display = \"inline\"; })\n",
    "        .on(\"end\", function(d) { if (d.parent !== focus) this.style.display = \"none\"; });\n",
    "  }\n",
    "\n",
    "  function zoomTo(v) {\n",
    "    var k = diameter / v[2]; view = v;\n",
    "    node.attr(\"transform\", function(d) { return \"translate(\" + (d.x - v[0]) * k + \",\" + (d.y - v[1]) * k + \")\"; });\n",
    "    circle.attr(\"r\", function(d) { return d.r * k; });\n",
    "  }\n",
    "});\n",
    "  });\n",
    " \"\"\""
   ]
  },
  {
   "cell_type": "code",
   "execution_count": 24,
   "metadata": {},
   "outputs": [],
   "source": [
    "# print(data)"
   ]
  },
  {
   "cell_type": "code",
   "execution_count": 25,
   "metadata": {},
   "outputs": [],
   "source": [
    "with open('output.json', 'w') as outfile:  \n",
    "    json.dump(data, outfile, indent=4)"
   ]
  },
  {
   "cell_type": "code",
   "execution_count": 26,
   "metadata": {},
   "outputs": [
    {
     "data": {
      "text/html": [
       "\n",
       "<!DOCTYPE html>\n",
       "<meta charset=\"utf-8\">\n",
       "<style>\n",
       "\n",
       ".node {\n",
       "  cursor: pointer;\n",
       "}\n",
       "\n",
       ".node:hover {\n",
       "  stroke: #000;\n",
       "  stroke-width: 1.5px;\n",
       "}\n",
       "\n",
       ".node--leaf {\n",
       "  fill: white;\n",
       "}\n",
       "\n",
       ".label {\n",
       "  font: 11px \"Helvetica Neue\", Helvetica, Arial, sans-serif;\n",
       "  text-anchor: middle;\n",
       "  text-shadow: 0 1px 0 #fff, 1px 0 0 #fff, -1px 0 0 #fff, 0 -1px 0 #fff;\n",
       "}\n",
       "\n",
       ".label,\n",
       ".node--root,\n",
       ".node--leaf {\n",
       "  pointer-events: none;\n",
       "}\n",
       "\n",
       "</style>\n",
       "<svg width=\"640\" height=\"640\"></svg>\n"
      ],
      "text/plain": [
       "<IPython.core.display.HTML object>"
      ]
     },
     "metadata": {},
     "output_type": "display_data"
    },
    {
     "data": {
      "application/javascript": [
       "\n",
       " require.config({\n",
       "    paths: {\n",
       "        d3: \"https://d3js.org/d3.v4.min\"\n",
       "     }\n",
       " });\n",
       "\n",
       "  require([\"d3\"], function(d3) {\n",
       "\n",
       "   console.log(d3);\n",
       "\n",
       "var svg = d3.select(\"svg\"),\n",
       "    margin = 20,\n",
       "    diameter = +svg.attr(\"width\"),\n",
       "    g = svg.append(\"g\").attr(\"transform\", \"translate(\" + diameter / 2 + \",\" + diameter / 2 + \")\");\n",
       "\n",
       "var color = d3.scaleSequential(d3.interpolateViridis)\n",
       "    .domain([-4, 4]);\n",
       "\n",
       "var pack = d3.pack()\n",
       "    .size([diameter - margin, diameter - margin])\n",
       "    .padding(2);\n",
       "\n",
       "d3.json(\"output.json\", function(error, root) {\n",
       "  if (error) throw error;\n",
       "\n",
       "  root = d3.hierarchy(root)\n",
       "      .sum(function(d) { return d.size; })\n",
       "      .sort(function(a, b) { return b.value - a.value; });\n",
       "\n",
       "  var focus = root,\n",
       "      nodes = pack(root).descendants(),\n",
       "      view;\n",
       "\n",
       "  var circle = g.selectAll(\"circle\")\n",
       "    .data(nodes)\n",
       "    .enter().append(\"circle\")\n",
       "      .attr(\"class\", function(d) { return d.parent ? d.children ? \"node\" : \"node node--leaf\" : \"node node--root\"; })\n",
       "      .style(\"fill\", function(d) { return d.children ? color(d.depth) : null; })\n",
       "      .on(\"click\", function(d) { if (focus !== d) zoom(d), d3.event.stopPropagation(); });\n",
       "\n",
       "  var text = g.selectAll(\"text\")\n",
       "    .data(nodes)\n",
       "    .enter().append(\"text\")\n",
       "      .attr(\"class\", \"label\")\n",
       "      .style(\"fill-opacity\", function(d) { return d.parent === root ? 1 : 0; })\n",
       "      .style(\"display\", function(d) { return d.parent === root ? \"inline\" : \"none\"; })\n",
       "      .text(function(d) { return d.data.name; });\n",
       "\n",
       "  var node = g.selectAll(\"circle,text\");\n",
       "\n",
       "  svg\n",
       "      .style(\"background\", color(-1))\n",
       "      .on(\"click\", function() { zoom(root); });\n",
       "\n",
       "  zoomTo([root.x, root.y, root.r * 2 + margin]);\n",
       "\n",
       "  function zoom(d) {\n",
       "    var focus0 = focus; focus = d;\n",
       "\n",
       "    var transition = d3.transition()\n",
       "        .duration(d3.event.altKey ? 7500 : 750)\n",
       "        .tween(\"zoom\", function(d) {\n",
       "          var i = d3.interpolateZoom(view, [focus.x, focus.y, focus.r * 2 + margin]);\n",
       "          return function(t) { zoomTo(i(t)); };\n",
       "        });\n",
       "\n",
       "    transition.selectAll(\"text\")\n",
       "      .filter(function(d) { return d.parent === focus || this.style.display === \"inline\"; })\n",
       "        .style(\"fill-opacity\", function(d) { return d.parent === focus ? 1 : 0; })\n",
       "        .on(\"start\", function(d) { if (d.parent === focus) this.style.display = \"inline\"; })\n",
       "        .on(\"end\", function(d) { if (d.parent !== focus) this.style.display = \"none\"; });\n",
       "  }\n",
       "\n",
       "  function zoomTo(v) {\n",
       "    var k = diameter / v[2]; view = v;\n",
       "    node.attr(\"transform\", function(d) { return \"translate(\" + (d.x - v[0]) * k + \",\" + (d.y - v[1]) * k + \")\"; });\n",
       "    circle.attr(\"r\", function(d) { return d.r * k; });\n",
       "  }\n",
       "});\n",
       "  });\n",
       " "
      ]
     },
     "metadata": {},
     "output_type": "display_data"
    }
   ],
   "source": [
    "h = display(HTML(html_string))\n",
    "j = IPython.display.Javascript(js_string)\n",
    "IPython.display.display_javascript(j)"
   ]
  },
  {
   "cell_type": "code",
   "execution_count": 27,
   "metadata": {},
   "outputs": [
    {
     "name": "stdout",
     "output_type": "stream",
     "text": [
      "<IPython.core.display.Javascript object>\n"
     ]
    }
   ],
   "source": [
    "print(j)"
   ]
  },
  {
   "cell_type": "code",
   "execution_count": 28,
   "metadata": {},
   "outputs": [
    {
     "name": "stdout",
     "output_type": "stream",
     "text": [
      "None\n"
     ]
    }
   ],
   "source": [
    "print(h)"
   ]
  },
  {
   "cell_type": "code",
   "execution_count": 29,
   "metadata": {},
   "outputs": [],
   "source": [
    "players_value = dataset.sort_values(\"ValueNum\", ascending=False).head(20).reset_index()[[\"short_name\", \"overall\", \"PotentialPoints\", \"ValueNum\", \"age\"]]"
   ]
  },
  {
   "cell_type": "markdown",
   "metadata": {},
   "source": [
    "## Top 20 players value in pounds vs overall score and potential"
   ]
  },
  {
   "cell_type": "code",
   "execution_count": 30,
   "metadata": {},
   "outputs": [
    {
     "data": {
      "application/vnd.plotly.v1+json": {
       "config": {
        "linkText": "Export to plot.ly",
        "plotlyServerURL": "https://plot.ly",
        "showLink": false
       },
       "data": [
        {
         "marker": {
          "color": "rgba(55, 128, 191, 0.7)",
          "line": {
           "color": "rgba(55, 128, 191, 1.0)",
           "width": 2
          }
         },
         "name": "overall",
         "type": "bar",
         "x": [
          "Neymar Jr",
          "L. Messi",
          "K. Mbappé",
          "K. De Bruyne",
          "E. Hazard",
          "H. Kane",
          "M. Salah",
          "V. van Dijk",
          "J. Oblak",
          "P. Dybala",
          "R. Sterling",
          "P. Pogba",
          "A. Griezmann",
          "C. Eriksen",
          "M. ter Stegen",
          "K. Koulibaly",
          "N. Kanté",
          "R. Lewandowski",
          "Bernardo Silva",
          "S. Mané"
         ],
         "y": [
          92,
          94,
          89,
          91,
          91,
          89,
          90,
          90,
          91,
          88,
          88,
          88,
          89,
          88,
          90,
          89,
          89,
          89,
          87,
          88
         ]
        },
        {
         "marker": {
          "color": "rgba(219, 64, 82, 0.7)",
          "line": {
           "color": "rgba(219, 64, 82, 1.0)",
           "width": 2
          }
         },
         "name": "Potential",
         "type": "bar",
         "x": [
          "Neymar Jr",
          "L. Messi",
          "K. Mbappé",
          "K. De Bruyne",
          "E. Hazard",
          "H. Kane",
          "M. Salah",
          "V. van Dijk",
          "J. Oblak",
          "P. Dybala",
          "R. Sterling",
          "P. Pogba",
          "A. Griezmann",
          "C. Eriksen",
          "M. ter Stegen",
          "K. Koulibaly",
          "N. Kanté",
          "R. Lewandowski",
          "Bernardo Silva",
          "S. Mané"
         ],
         "y": [
          0,
          0,
          6,
          0,
          0,
          2,
          0,
          1,
          2,
          4,
          2,
          3,
          0,
          1,
          3,
          2,
          1,
          0,
          3,
          0
         ]
        },
        {
         "mode": "lines+markers",
         "name": "Value [M€]",
         "type": "scatter",
         "x": [
          "Neymar Jr",
          "L. Messi",
          "K. Mbappé",
          "K. De Bruyne",
          "E. Hazard",
          "H. Kane",
          "M. Salah",
          "V. van Dijk",
          "J. Oblak",
          "P. Dybala",
          "R. Sterling",
          "P. Pogba",
          "A. Griezmann",
          "C. Eriksen",
          "M. ter Stegen",
          "K. Koulibaly",
          "N. Kanté",
          "R. Lewandowski",
          "Bernardo Silva",
          "S. Mané"
         ],
         "y": [
          105.5,
          95.5,
          93.5,
          90,
          90,
          83,
          80.5,
          78,
          77.5,
          76.5,
          73,
          72.5,
          69,
          68,
          67.5,
          67.5,
          66,
          64.5,
          64,
          62
         ],
         "yaxis": "y2"
        }
       ],
       "layout": {
        "barmode": "stack",
        "height": 500,
        "legend": {
         "x": 0.05,
         "y": 0.05
        },
        "paper_bgcolor": "rgb(244, 238, 225)",
        "plot_bgcolor": "rgb(244, 238, 225)",
        "template": {
         "data": {
          "bar": [
           {
            "error_x": {
             "color": "#2a3f5f"
            },
            "error_y": {
             "color": "#2a3f5f"
            },
            "marker": {
             "line": {
              "color": "#E5ECF6",
              "width": 0.5
             }
            },
            "type": "bar"
           }
          ],
          "barpolar": [
           {
            "marker": {
             "line": {
              "color": "#E5ECF6",
              "width": 0.5
             }
            },
            "type": "barpolar"
           }
          ],
          "carpet": [
           {
            "aaxis": {
             "endlinecolor": "#2a3f5f",
             "gridcolor": "white",
             "linecolor": "white",
             "minorgridcolor": "white",
             "startlinecolor": "#2a3f5f"
            },
            "baxis": {
             "endlinecolor": "#2a3f5f",
             "gridcolor": "white",
             "linecolor": "white",
             "minorgridcolor": "white",
             "startlinecolor": "#2a3f5f"
            },
            "type": "carpet"
           }
          ],
          "choropleth": [
           {
            "colorbar": {
             "outlinewidth": 0,
             "ticks": ""
            },
            "type": "choropleth"
           }
          ],
          "contour": [
           {
            "colorbar": {
             "outlinewidth": 0,
             "ticks": ""
            },
            "colorscale": [
             [
              0,
              "#0d0887"
             ],
             [
              0.1111111111111111,
              "#46039f"
             ],
             [
              0.2222222222222222,
              "#7201a8"
             ],
             [
              0.3333333333333333,
              "#9c179e"
             ],
             [
              0.4444444444444444,
              "#bd3786"
             ],
             [
              0.5555555555555556,
              "#d8576b"
             ],
             [
              0.6666666666666666,
              "#ed7953"
             ],
             [
              0.7777777777777778,
              "#fb9f3a"
             ],
             [
              0.8888888888888888,
              "#fdca26"
             ],
             [
              1,
              "#f0f921"
             ]
            ],
            "type": "contour"
           }
          ],
          "contourcarpet": [
           {
            "colorbar": {
             "outlinewidth": 0,
             "ticks": ""
            },
            "type": "contourcarpet"
           }
          ],
          "heatmap": [
           {
            "colorbar": {
             "outlinewidth": 0,
             "ticks": ""
            },
            "colorscale": [
             [
              0,
              "#0d0887"
             ],
             [
              0.1111111111111111,
              "#46039f"
             ],
             [
              0.2222222222222222,
              "#7201a8"
             ],
             [
              0.3333333333333333,
              "#9c179e"
             ],
             [
              0.4444444444444444,
              "#bd3786"
             ],
             [
              0.5555555555555556,
              "#d8576b"
             ],
             [
              0.6666666666666666,
              "#ed7953"
             ],
             [
              0.7777777777777778,
              "#fb9f3a"
             ],
             [
              0.8888888888888888,
              "#fdca26"
             ],
             [
              1,
              "#f0f921"
             ]
            ],
            "type": "heatmap"
           }
          ],
          "heatmapgl": [
           {
            "colorbar": {
             "outlinewidth": 0,
             "ticks": ""
            },
            "colorscale": [
             [
              0,
              "#0d0887"
             ],
             [
              0.1111111111111111,
              "#46039f"
             ],
             [
              0.2222222222222222,
              "#7201a8"
             ],
             [
              0.3333333333333333,
              "#9c179e"
             ],
             [
              0.4444444444444444,
              "#bd3786"
             ],
             [
              0.5555555555555556,
              "#d8576b"
             ],
             [
              0.6666666666666666,
              "#ed7953"
             ],
             [
              0.7777777777777778,
              "#fb9f3a"
             ],
             [
              0.8888888888888888,
              "#fdca26"
             ],
             [
              1,
              "#f0f921"
             ]
            ],
            "type": "heatmapgl"
           }
          ],
          "histogram": [
           {
            "marker": {
             "colorbar": {
              "outlinewidth": 0,
              "ticks": ""
             }
            },
            "type": "histogram"
           }
          ],
          "histogram2d": [
           {
            "colorbar": {
             "outlinewidth": 0,
             "ticks": ""
            },
            "colorscale": [
             [
              0,
              "#0d0887"
             ],
             [
              0.1111111111111111,
              "#46039f"
             ],
             [
              0.2222222222222222,
              "#7201a8"
             ],
             [
              0.3333333333333333,
              "#9c179e"
             ],
             [
              0.4444444444444444,
              "#bd3786"
             ],
             [
              0.5555555555555556,
              "#d8576b"
             ],
             [
              0.6666666666666666,
              "#ed7953"
             ],
             [
              0.7777777777777778,
              "#fb9f3a"
             ],
             [
              0.8888888888888888,
              "#fdca26"
             ],
             [
              1,
              "#f0f921"
             ]
            ],
            "type": "histogram2d"
           }
          ],
          "histogram2dcontour": [
           {
            "colorbar": {
             "outlinewidth": 0,
             "ticks": ""
            },
            "colorscale": [
             [
              0,
              "#0d0887"
             ],
             [
              0.1111111111111111,
              "#46039f"
             ],
             [
              0.2222222222222222,
              "#7201a8"
             ],
             [
              0.3333333333333333,
              "#9c179e"
             ],
             [
              0.4444444444444444,
              "#bd3786"
             ],
             [
              0.5555555555555556,
              "#d8576b"
             ],
             [
              0.6666666666666666,
              "#ed7953"
             ],
             [
              0.7777777777777778,
              "#fb9f3a"
             ],
             [
              0.8888888888888888,
              "#fdca26"
             ],
             [
              1,
              "#f0f921"
             ]
            ],
            "type": "histogram2dcontour"
           }
          ],
          "mesh3d": [
           {
            "colorbar": {
             "outlinewidth": 0,
             "ticks": ""
            },
            "type": "mesh3d"
           }
          ],
          "parcoords": [
           {
            "line": {
             "colorbar": {
              "outlinewidth": 0,
              "ticks": ""
             }
            },
            "type": "parcoords"
           }
          ],
          "pie": [
           {
            "automargin": true,
            "type": "pie"
           }
          ],
          "scatter": [
           {
            "marker": {
             "colorbar": {
              "outlinewidth": 0,
              "ticks": ""
             }
            },
            "type": "scatter"
           }
          ],
          "scatter3d": [
           {
            "line": {
             "colorbar": {
              "outlinewidth": 0,
              "ticks": ""
             }
            },
            "marker": {
             "colorbar": {
              "outlinewidth": 0,
              "ticks": ""
             }
            },
            "type": "scatter3d"
           }
          ],
          "scattercarpet": [
           {
            "marker": {
             "colorbar": {
              "outlinewidth": 0,
              "ticks": ""
             }
            },
            "type": "scattercarpet"
           }
          ],
          "scattergeo": [
           {
            "marker": {
             "colorbar": {
              "outlinewidth": 0,
              "ticks": ""
             }
            },
            "type": "scattergeo"
           }
          ],
          "scattergl": [
           {
            "marker": {
             "colorbar": {
              "outlinewidth": 0,
              "ticks": ""
             }
            },
            "type": "scattergl"
           }
          ],
          "scattermapbox": [
           {
            "marker": {
             "colorbar": {
              "outlinewidth": 0,
              "ticks": ""
             }
            },
            "type": "scattermapbox"
           }
          ],
          "scatterpolar": [
           {
            "marker": {
             "colorbar": {
              "outlinewidth": 0,
              "ticks": ""
             }
            },
            "type": "scatterpolar"
           }
          ],
          "scatterpolargl": [
           {
            "marker": {
             "colorbar": {
              "outlinewidth": 0,
              "ticks": ""
             }
            },
            "type": "scatterpolargl"
           }
          ],
          "scatterternary": [
           {
            "marker": {
             "colorbar": {
              "outlinewidth": 0,
              "ticks": ""
             }
            },
            "type": "scatterternary"
           }
          ],
          "surface": [
           {
            "colorbar": {
             "outlinewidth": 0,
             "ticks": ""
            },
            "colorscale": [
             [
              0,
              "#0d0887"
             ],
             [
              0.1111111111111111,
              "#46039f"
             ],
             [
              0.2222222222222222,
              "#7201a8"
             ],
             [
              0.3333333333333333,
              "#9c179e"
             ],
             [
              0.4444444444444444,
              "#bd3786"
             ],
             [
              0.5555555555555556,
              "#d8576b"
             ],
             [
              0.6666666666666666,
              "#ed7953"
             ],
             [
              0.7777777777777778,
              "#fb9f3a"
             ],
             [
              0.8888888888888888,
              "#fdca26"
             ],
             [
              1,
              "#f0f921"
             ]
            ],
            "type": "surface"
           }
          ],
          "table": [
           {
            "cells": {
             "fill": {
              "color": "#EBF0F8"
             },
             "line": {
              "color": "white"
             }
            },
            "header": {
             "fill": {
              "color": "#C8D4E3"
             },
             "line": {
              "color": "white"
             }
            },
            "type": "table"
           }
          ]
         },
         "layout": {
          "annotationdefaults": {
           "arrowcolor": "#2a3f5f",
           "arrowhead": 0,
           "arrowwidth": 1
          },
          "autotypenumbers": "strict",
          "coloraxis": {
           "colorbar": {
            "outlinewidth": 0,
            "ticks": ""
           }
          },
          "colorscale": {
           "diverging": [
            [
             0,
             "#8e0152"
            ],
            [
             0.1,
             "#c51b7d"
            ],
            [
             0.2,
             "#de77ae"
            ],
            [
             0.3,
             "#f1b6da"
            ],
            [
             0.4,
             "#fde0ef"
            ],
            [
             0.5,
             "#f7f7f7"
            ],
            [
             0.6,
             "#e6f5d0"
            ],
            [
             0.7,
             "#b8e186"
            ],
            [
             0.8,
             "#7fbc41"
            ],
            [
             0.9,
             "#4d9221"
            ],
            [
             1,
             "#276419"
            ]
           ],
           "sequential": [
            [
             0,
             "#0d0887"
            ],
            [
             0.1111111111111111,
             "#46039f"
            ],
            [
             0.2222222222222222,
             "#7201a8"
            ],
            [
             0.3333333333333333,
             "#9c179e"
            ],
            [
             0.4444444444444444,
             "#bd3786"
            ],
            [
             0.5555555555555556,
             "#d8576b"
            ],
            [
             0.6666666666666666,
             "#ed7953"
            ],
            [
             0.7777777777777778,
             "#fb9f3a"
            ],
            [
             0.8888888888888888,
             "#fdca26"
            ],
            [
             1,
             "#f0f921"
            ]
           ],
           "sequentialminus": [
            [
             0,
             "#0d0887"
            ],
            [
             0.1111111111111111,
             "#46039f"
            ],
            [
             0.2222222222222222,
             "#7201a8"
            ],
            [
             0.3333333333333333,
             "#9c179e"
            ],
            [
             0.4444444444444444,
             "#bd3786"
            ],
            [
             0.5555555555555556,
             "#d8576b"
            ],
            [
             0.6666666666666666,
             "#ed7953"
            ],
            [
             0.7777777777777778,
             "#fb9f3a"
            ],
            [
             0.8888888888888888,
             "#fdca26"
            ],
            [
             1,
             "#f0f921"
            ]
           ]
          },
          "colorway": [
           "#636efa",
           "#EF553B",
           "#00cc96",
           "#ab63fa",
           "#FFA15A",
           "#19d3f3",
           "#FF6692",
           "#B6E880",
           "#FF97FF",
           "#FECB52"
          ],
          "font": {
           "color": "#2a3f5f"
          },
          "geo": {
           "bgcolor": "white",
           "lakecolor": "white",
           "landcolor": "#E5ECF6",
           "showlakes": true,
           "showland": true,
           "subunitcolor": "white"
          },
          "hoverlabel": {
           "align": "left"
          },
          "hovermode": "closest",
          "mapbox": {
           "style": "light"
          },
          "paper_bgcolor": "white",
          "plot_bgcolor": "#E5ECF6",
          "polar": {
           "angularaxis": {
            "gridcolor": "white",
            "linecolor": "white",
            "ticks": ""
           },
           "bgcolor": "#E5ECF6",
           "radialaxis": {
            "gridcolor": "white",
            "linecolor": "white",
            "ticks": ""
           }
          },
          "scene": {
           "xaxis": {
            "backgroundcolor": "#E5ECF6",
            "gridcolor": "white",
            "gridwidth": 2,
            "linecolor": "white",
            "showbackground": true,
            "ticks": "",
            "zerolinecolor": "white"
           },
           "yaxis": {
            "backgroundcolor": "#E5ECF6",
            "gridcolor": "white",
            "gridwidth": 2,
            "linecolor": "white",
            "showbackground": true,
            "ticks": "",
            "zerolinecolor": "white"
           },
           "zaxis": {
            "backgroundcolor": "#E5ECF6",
            "gridcolor": "white",
            "gridwidth": 2,
            "linecolor": "white",
            "showbackground": true,
            "ticks": "",
            "zerolinecolor": "white"
           }
          },
          "shapedefaults": {
           "line": {
            "color": "#2a3f5f"
           }
          },
          "ternary": {
           "aaxis": {
            "gridcolor": "white",
            "linecolor": "white",
            "ticks": ""
           },
           "baxis": {
            "gridcolor": "white",
            "linecolor": "white",
            "ticks": ""
           },
           "bgcolor": "#E5ECF6",
           "caxis": {
            "gridcolor": "white",
            "linecolor": "white",
            "ticks": ""
           }
          },
          "title": {
           "x": 0.05
          },
          "xaxis": {
           "automargin": true,
           "gridcolor": "white",
           "linecolor": "white",
           "ticks": "",
           "title": {
            "standoff": 15
           },
           "zerolinecolor": "white",
           "zerolinewidth": 2
          },
          "yaxis": {
           "automargin": true,
           "gridcolor": "white",
           "linecolor": "white",
           "ticks": "",
           "title": {
            "standoff": 15
           },
           "zerolinecolor": "white",
           "zerolinewidth": 2
          }
         }
        },
        "title": {
         "font": {
          "size": 25
         },
         "text": "Player Potential vs Value"
        },
        "width": 850,
        "xaxis": {
         "title": {
          "text": "Player Names"
         }
        },
        "yaxis": {
         "anchor": "x",
         "rangemode": "tozero",
         "title": {
          "text": "Overall/Potential"
         }
        },
        "yaxis2": {
         "anchor": "x",
         "dtick": 20,
         "overlaying": "y",
         "rangemode": "tozero",
         "side": "right",
         "tickfont": {
          "color": "rgb(148, 103, 189)"
         },
         "title": {
          "font": {
           "color": "rgb(148, 103, 189)"
          },
          "text": "Value [M€]"
         }
        }
       }
      },
      "text/html": [
       "<div>                            <div id=\"9389913c-cb44-401e-9769-d8843bfb6882\" class=\"plotly-graph-div\" style=\"height:500px; width:850px;\"></div>            <script type=\"text/javascript\">                require([\"plotly\"], function(Plotly) {                    window.PLOTLYENV=window.PLOTLYENV || {};                                    if (document.getElementById(\"9389913c-cb44-401e-9769-d8843bfb6882\")) {                    Plotly.newPlot(                        \"9389913c-cb44-401e-9769-d8843bfb6882\",                        [{\"marker\": {\"color\": \"rgba(55, 128, 191, 0.7)\", \"line\": {\"color\": \"rgba(55, 128, 191, 1.0)\", \"width\": 2}}, \"name\": \"overall\", \"type\": \"bar\", \"x\": [\"Neymar Jr\", \"L. Messi\", \"K. Mbapp\\u00e9\", \"K. De Bruyne\", \"E. Hazard\", \"H. Kane\", \"M. Salah\", \"V. van Dijk\", \"J. Oblak\", \"P. Dybala\", \"R. Sterling\", \"P. Pogba\", \"A. Griezmann\", \"C. Eriksen\", \"M. ter Stegen\", \"K. Koulibaly\", \"N. Kant\\u00e9\", \"R. Lewandowski\", \"Bernardo Silva\", \"S. Man\\u00e9\"], \"y\": [92, 94, 89, 91, 91, 89, 90, 90, 91, 88, 88, 88, 89, 88, 90, 89, 89, 89, 87, 88]}, {\"marker\": {\"color\": \"rgba(219, 64, 82, 0.7)\", \"line\": {\"color\": \"rgba(219, 64, 82, 1.0)\", \"width\": 2}}, \"name\": \"Potential\", \"type\": \"bar\", \"x\": [\"Neymar Jr\", \"L. Messi\", \"K. Mbapp\\u00e9\", \"K. De Bruyne\", \"E. Hazard\", \"H. Kane\", \"M. Salah\", \"V. van Dijk\", \"J. Oblak\", \"P. Dybala\", \"R. Sterling\", \"P. Pogba\", \"A. Griezmann\", \"C. Eriksen\", \"M. ter Stegen\", \"K. Koulibaly\", \"N. Kant\\u00e9\", \"R. Lewandowski\", \"Bernardo Silva\", \"S. Man\\u00e9\"], \"y\": [0, 0, 6, 0, 0, 2, 0, 1, 2, 4, 2, 3, 0, 1, 3, 2, 1, 0, 3, 0]}, {\"mode\": \"lines+markers\", \"name\": \"Value [M\\u20ac]\", \"type\": \"scatter\", \"x\": [\"Neymar Jr\", \"L. Messi\", \"K. Mbapp\\u00e9\", \"K. De Bruyne\", \"E. Hazard\", \"H. Kane\", \"M. Salah\", \"V. van Dijk\", \"J. Oblak\", \"P. Dybala\", \"R. Sterling\", \"P. Pogba\", \"A. Griezmann\", \"C. Eriksen\", \"M. ter Stegen\", \"K. Koulibaly\", \"N. Kant\\u00e9\", \"R. Lewandowski\", \"Bernardo Silva\", \"S. Man\\u00e9\"], \"y\": [105.5, 95.5, 93.5, 90.0, 90.0, 83.0, 80.5, 78.0, 77.5, 76.5, 73.0, 72.5, 69.0, 68.0, 67.5, 67.5, 66.0, 64.5, 64.0, 62.0], \"yaxis\": \"y2\"}],                        {\"barmode\": \"stack\", \"height\": 500, \"legend\": {\"x\": 0.05, \"y\": 0.05}, \"paper_bgcolor\": \"rgb(244, 238, 225)\", \"plot_bgcolor\": \"rgb(244, 238, 225)\", \"template\": {\"data\": {\"bar\": [{\"error_x\": {\"color\": \"#2a3f5f\"}, \"error_y\": {\"color\": \"#2a3f5f\"}, \"marker\": {\"line\": {\"color\": \"#E5ECF6\", \"width\": 0.5}}, \"type\": \"bar\"}], \"barpolar\": [{\"marker\": {\"line\": {\"color\": \"#E5ECF6\", \"width\": 0.5}}, \"type\": \"barpolar\"}], \"carpet\": [{\"aaxis\": {\"endlinecolor\": \"#2a3f5f\", \"gridcolor\": \"white\", \"linecolor\": \"white\", \"minorgridcolor\": \"white\", \"startlinecolor\": \"#2a3f5f\"}, \"baxis\": {\"endlinecolor\": \"#2a3f5f\", \"gridcolor\": \"white\", \"linecolor\": \"white\", \"minorgridcolor\": \"white\", \"startlinecolor\": \"#2a3f5f\"}, \"type\": \"carpet\"}], \"choropleth\": [{\"colorbar\": {\"outlinewidth\": 0, \"ticks\": \"\"}, \"type\": \"choropleth\"}], \"contour\": [{\"colorbar\": {\"outlinewidth\": 0, \"ticks\": \"\"}, \"colorscale\": [[0.0, \"#0d0887\"], [0.1111111111111111, \"#46039f\"], [0.2222222222222222, \"#7201a8\"], [0.3333333333333333, \"#9c179e\"], [0.4444444444444444, \"#bd3786\"], [0.5555555555555556, \"#d8576b\"], [0.6666666666666666, \"#ed7953\"], [0.7777777777777778, \"#fb9f3a\"], [0.8888888888888888, \"#fdca26\"], [1.0, \"#f0f921\"]], \"type\": \"contour\"}], \"contourcarpet\": [{\"colorbar\": {\"outlinewidth\": 0, \"ticks\": \"\"}, \"type\": \"contourcarpet\"}], \"heatmap\": [{\"colorbar\": {\"outlinewidth\": 0, \"ticks\": \"\"}, \"colorscale\": [[0.0, \"#0d0887\"], [0.1111111111111111, \"#46039f\"], [0.2222222222222222, \"#7201a8\"], [0.3333333333333333, \"#9c179e\"], [0.4444444444444444, \"#bd3786\"], [0.5555555555555556, \"#d8576b\"], [0.6666666666666666, \"#ed7953\"], [0.7777777777777778, \"#fb9f3a\"], [0.8888888888888888, \"#fdca26\"], [1.0, \"#f0f921\"]], \"type\": \"heatmap\"}], \"heatmapgl\": [{\"colorbar\": {\"outlinewidth\": 0, \"ticks\": \"\"}, \"colorscale\": [[0.0, \"#0d0887\"], [0.1111111111111111, \"#46039f\"], [0.2222222222222222, \"#7201a8\"], [0.3333333333333333, \"#9c179e\"], [0.4444444444444444, \"#bd3786\"], [0.5555555555555556, \"#d8576b\"], [0.6666666666666666, \"#ed7953\"], [0.7777777777777778, \"#fb9f3a\"], [0.8888888888888888, \"#fdca26\"], [1.0, \"#f0f921\"]], \"type\": \"heatmapgl\"}], \"histogram\": [{\"marker\": {\"colorbar\": {\"outlinewidth\": 0, \"ticks\": \"\"}}, \"type\": \"histogram\"}], \"histogram2d\": [{\"colorbar\": {\"outlinewidth\": 0, \"ticks\": \"\"}, \"colorscale\": [[0.0, \"#0d0887\"], [0.1111111111111111, \"#46039f\"], [0.2222222222222222, \"#7201a8\"], [0.3333333333333333, \"#9c179e\"], [0.4444444444444444, \"#bd3786\"], [0.5555555555555556, \"#d8576b\"], [0.6666666666666666, \"#ed7953\"], [0.7777777777777778, \"#fb9f3a\"], [0.8888888888888888, \"#fdca26\"], [1.0, \"#f0f921\"]], \"type\": \"histogram2d\"}], \"histogram2dcontour\": [{\"colorbar\": {\"outlinewidth\": 0, \"ticks\": \"\"}, \"colorscale\": [[0.0, \"#0d0887\"], [0.1111111111111111, \"#46039f\"], [0.2222222222222222, \"#7201a8\"], [0.3333333333333333, \"#9c179e\"], [0.4444444444444444, \"#bd3786\"], [0.5555555555555556, \"#d8576b\"], [0.6666666666666666, \"#ed7953\"], [0.7777777777777778, \"#fb9f3a\"], [0.8888888888888888, \"#fdca26\"], [1.0, \"#f0f921\"]], \"type\": \"histogram2dcontour\"}], \"mesh3d\": [{\"colorbar\": {\"outlinewidth\": 0, \"ticks\": \"\"}, \"type\": \"mesh3d\"}], \"parcoords\": [{\"line\": {\"colorbar\": {\"outlinewidth\": 0, \"ticks\": \"\"}}, \"type\": \"parcoords\"}], \"pie\": [{\"automargin\": true, \"type\": \"pie\"}], \"scatter\": [{\"marker\": {\"colorbar\": {\"outlinewidth\": 0, \"ticks\": \"\"}}, \"type\": \"scatter\"}], \"scatter3d\": [{\"line\": {\"colorbar\": {\"outlinewidth\": 0, \"ticks\": \"\"}}, \"marker\": {\"colorbar\": {\"outlinewidth\": 0, \"ticks\": \"\"}}, \"type\": \"scatter3d\"}], \"scattercarpet\": [{\"marker\": {\"colorbar\": {\"outlinewidth\": 0, \"ticks\": \"\"}}, \"type\": \"scattercarpet\"}], \"scattergeo\": [{\"marker\": {\"colorbar\": {\"outlinewidth\": 0, \"ticks\": \"\"}}, \"type\": \"scattergeo\"}], \"scattergl\": [{\"marker\": {\"colorbar\": {\"outlinewidth\": 0, \"ticks\": \"\"}}, \"type\": \"scattergl\"}], \"scattermapbox\": [{\"marker\": {\"colorbar\": {\"outlinewidth\": 0, \"ticks\": \"\"}}, \"type\": \"scattermapbox\"}], \"scatterpolar\": [{\"marker\": {\"colorbar\": {\"outlinewidth\": 0, \"ticks\": \"\"}}, \"type\": \"scatterpolar\"}], \"scatterpolargl\": [{\"marker\": {\"colorbar\": {\"outlinewidth\": 0, \"ticks\": \"\"}}, \"type\": \"scatterpolargl\"}], \"scatterternary\": [{\"marker\": {\"colorbar\": {\"outlinewidth\": 0, \"ticks\": \"\"}}, \"type\": \"scatterternary\"}], \"surface\": [{\"colorbar\": {\"outlinewidth\": 0, \"ticks\": \"\"}, \"colorscale\": [[0.0, \"#0d0887\"], [0.1111111111111111, \"#46039f\"], [0.2222222222222222, \"#7201a8\"], [0.3333333333333333, \"#9c179e\"], [0.4444444444444444, \"#bd3786\"], [0.5555555555555556, \"#d8576b\"], [0.6666666666666666, \"#ed7953\"], [0.7777777777777778, \"#fb9f3a\"], [0.8888888888888888, \"#fdca26\"], [1.0, \"#f0f921\"]], \"type\": \"surface\"}], \"table\": [{\"cells\": {\"fill\": {\"color\": \"#EBF0F8\"}, \"line\": {\"color\": \"white\"}}, \"header\": {\"fill\": {\"color\": \"#C8D4E3\"}, \"line\": {\"color\": \"white\"}}, \"type\": \"table\"}]}, \"layout\": {\"annotationdefaults\": {\"arrowcolor\": \"#2a3f5f\", \"arrowhead\": 0, \"arrowwidth\": 1}, \"autotypenumbers\": \"strict\", \"coloraxis\": {\"colorbar\": {\"outlinewidth\": 0, \"ticks\": \"\"}}, \"colorscale\": {\"diverging\": [[0, \"#8e0152\"], [0.1, \"#c51b7d\"], [0.2, \"#de77ae\"], [0.3, \"#f1b6da\"], [0.4, \"#fde0ef\"], [0.5, \"#f7f7f7\"], [0.6, \"#e6f5d0\"], [0.7, \"#b8e186\"], [0.8, \"#7fbc41\"], [0.9, \"#4d9221\"], [1, \"#276419\"]], \"sequential\": [[0.0, \"#0d0887\"], [0.1111111111111111, \"#46039f\"], [0.2222222222222222, \"#7201a8\"], [0.3333333333333333, \"#9c179e\"], [0.4444444444444444, \"#bd3786\"], [0.5555555555555556, \"#d8576b\"], [0.6666666666666666, \"#ed7953\"], [0.7777777777777778, \"#fb9f3a\"], [0.8888888888888888, \"#fdca26\"], [1.0, \"#f0f921\"]], \"sequentialminus\": [[0.0, \"#0d0887\"], [0.1111111111111111, \"#46039f\"], [0.2222222222222222, \"#7201a8\"], [0.3333333333333333, \"#9c179e\"], [0.4444444444444444, \"#bd3786\"], [0.5555555555555556, \"#d8576b\"], [0.6666666666666666, \"#ed7953\"], [0.7777777777777778, \"#fb9f3a\"], [0.8888888888888888, \"#fdca26\"], [1.0, \"#f0f921\"]]}, \"colorway\": [\"#636efa\", \"#EF553B\", \"#00cc96\", \"#ab63fa\", \"#FFA15A\", \"#19d3f3\", \"#FF6692\", \"#B6E880\", \"#FF97FF\", \"#FECB52\"], \"font\": {\"color\": \"#2a3f5f\"}, \"geo\": {\"bgcolor\": \"white\", \"lakecolor\": \"white\", \"landcolor\": \"#E5ECF6\", \"showlakes\": true, \"showland\": true, \"subunitcolor\": \"white\"}, \"hoverlabel\": {\"align\": \"left\"}, \"hovermode\": \"closest\", \"mapbox\": {\"style\": \"light\"}, \"paper_bgcolor\": \"white\", \"plot_bgcolor\": \"#E5ECF6\", \"polar\": {\"angularaxis\": {\"gridcolor\": \"white\", \"linecolor\": \"white\", \"ticks\": \"\"}, \"bgcolor\": \"#E5ECF6\", \"radialaxis\": {\"gridcolor\": \"white\", \"linecolor\": \"white\", \"ticks\": \"\"}}, \"scene\": {\"xaxis\": {\"backgroundcolor\": \"#E5ECF6\", \"gridcolor\": \"white\", \"gridwidth\": 2, \"linecolor\": \"white\", \"showbackground\": true, \"ticks\": \"\", \"zerolinecolor\": \"white\"}, \"yaxis\": {\"backgroundcolor\": \"#E5ECF6\", \"gridcolor\": \"white\", \"gridwidth\": 2, \"linecolor\": \"white\", \"showbackground\": true, \"ticks\": \"\", \"zerolinecolor\": \"white\"}, \"zaxis\": {\"backgroundcolor\": \"#E5ECF6\", \"gridcolor\": \"white\", \"gridwidth\": 2, \"linecolor\": \"white\", \"showbackground\": true, \"ticks\": \"\", \"zerolinecolor\": \"white\"}}, \"shapedefaults\": {\"line\": {\"color\": \"#2a3f5f\"}}, \"ternary\": {\"aaxis\": {\"gridcolor\": \"white\", \"linecolor\": \"white\", \"ticks\": \"\"}, \"baxis\": {\"gridcolor\": \"white\", \"linecolor\": \"white\", \"ticks\": \"\"}, \"bgcolor\": \"#E5ECF6\", \"caxis\": {\"gridcolor\": \"white\", \"linecolor\": \"white\", \"ticks\": \"\"}}, \"title\": {\"x\": 0.05}, \"xaxis\": {\"automargin\": true, \"gridcolor\": \"white\", \"linecolor\": \"white\", \"ticks\": \"\", \"title\": {\"standoff\": 15}, \"zerolinecolor\": \"white\", \"zerolinewidth\": 2}, \"yaxis\": {\"automargin\": true, \"gridcolor\": \"white\", \"linecolor\": \"white\", \"ticks\": \"\", \"title\": {\"standoff\": 15}, \"zerolinecolor\": \"white\", \"zerolinewidth\": 2}}}, \"title\": {\"font\": {\"size\": 25}, \"text\": \"Player Potential vs Value\"}, \"width\": 850, \"xaxis\": {\"title\": {\"text\": \"Player Names\"}}, \"yaxis\": {\"anchor\": \"x\", \"rangemode\": \"tozero\", \"title\": {\"text\": \"Overall/Potential\"}}, \"yaxis2\": {\"anchor\": \"x\", \"dtick\": 20, \"overlaying\": \"y\", \"rangemode\": \"tozero\", \"side\": \"right\", \"tickfont\": {\"color\": \"rgb(148, 103, 189)\"}, \"title\": {\"font\": {\"color\": \"rgb(148, 103, 189)\"}, \"text\": \"Value [M\\u20ac]\"}}},                        {\"responsive\": true}                    ).then(function(){\n",
       "                            \n",
       "var gd = document.getElementById('9389913c-cb44-401e-9769-d8843bfb6882');\n",
       "var x = new MutationObserver(function (mutations, observer) {{\n",
       "        var display = window.getComputedStyle(gd).display;\n",
       "        if (!display || display === 'none') {{\n",
       "            console.log([gd, 'removed!']);\n",
       "            Plotly.purge(gd);\n",
       "            observer.disconnect();\n",
       "        }}\n",
       "}});\n",
       "\n",
       "// Listen for the removal of the full notebook cells\n",
       "var notebookContainer = gd.closest('#notebook-container');\n",
       "if (notebookContainer) {{\n",
       "    x.observe(notebookContainer, {childList: true});\n",
       "}}\n",
       "\n",
       "// Listen for the clearing of the current output cell\n",
       "var outputEl = gd.closest('.output');\n",
       "if (outputEl) {{\n",
       "    x.observe(outputEl, {childList: true});\n",
       "}}\n",
       "\n",
       "                        })                };                });            </script>        </div>"
      ]
     },
     "metadata": {},
     "output_type": "display_data"
    }
   ],
   "source": [
    "trace1 = go.Bar(\n",
    "    x = players_value[\"short_name\"].tolist(),\n",
    "    y = players_value[\"overall\"].tolist(),\n",
    "    name='overall',\n",
    "    marker=dict(\n",
    "        color='rgba(55, 128, 191, 0.7)',\n",
    "        line=dict(\n",
    "            color='rgba(55, 128, 191, 1.0)',\n",
    "            width=2,\n",
    "        )\n",
    "    )\n",
    ")\n",
    "\n",
    "trace2 = go.Bar(\n",
    "    x = players_value[\"short_name\"].tolist(),\n",
    "    y = players_value[\"PotentialPoints\"].tolist(),\n",
    "    name='Potential',\n",
    "    marker=dict(\n",
    "        color='rgba(219, 64, 82, 0.7)',\n",
    "        line=dict(\n",
    "            color='rgba(219, 64, 82, 1.0)',\n",
    "            width=2,\n",
    "        )\n",
    "    )\n",
    ")\n",
    "\n",
    "trace3 = go.Scatter(\n",
    "    x = players_value[\"short_name\"].tolist(),\n",
    "    y = (players_value[\"ValueNum\"] / 1000000).tolist(),\n",
    "    name='Value [M€]',\n",
    "    mode = 'lines+markers',\n",
    "    yaxis='y2'\n",
    ")\n",
    "\n",
    "data = [trace1, trace2,trace3]\n",
    "\n",
    "layout = go.Layout(\n",
    "    barmode='stack',\n",
    "    title = 'Player Potential vs Value',\n",
    "    titlefont=dict(size=25),\n",
    "    width=850,\n",
    "    height=500,\n",
    "    paper_bgcolor='rgb(244, 238, 225)',\n",
    "    plot_bgcolor='rgb(244, 238, 225)',\n",
    "    yaxis = dict(\n",
    "        title= 'Overall/Potential',\n",
    "        anchor = 'x',\n",
    "        rangemode='tozero'\n",
    "    ),\n",
    "    xaxis = dict(title= 'Player Names'),\n",
    "    yaxis2=dict(\n",
    "        title='Value [M€]',\n",
    "        titlefont=dict(\n",
    "            color='rgb(148, 103, 189)'\n",
    "        ),\n",
    "        tickfont=dict(\n",
    "            color='rgb(148, 103, 189)'\n",
    "        ),\n",
    "        overlaying='y',\n",
    "        side='right',\n",
    "        anchor = 'x',\n",
    "        rangemode = 'tozero',\n",
    "        dtick = 20\n",
    "    ),\n",
    "    legend=dict(x=0.05, y=0.05)\n",
    ")\n",
    "\n",
    "fig = go.Figure(data=data, layout=layout)\n",
    "py.iplot(fig)"
   ]
  },
  {
   "cell_type": "code",
   "execution_count": null,
   "metadata": {},
   "outputs": [],
   "source": []
  },
  {
   "cell_type": "code",
   "execution_count": 31,
   "metadata": {},
   "outputs": [
    {
     "data": {
      "image/png": "[encoded data removed]",
      "text/plain": [
       "<Figure size 1152x576 with 1 Axes>"
      ]
     },
     "metadata": {
      "needs_background": "light"
     },
     "output_type": "display_data"
    }
   ],
   "source": [
    "plt.figure(figsize=(16,8))\n",
    "sns.set_style(\"whitegrid\")\n",
    "plt.title('Grouping players by Age', fontsize=20, fontweight='bold', y=1.05,)\n",
    "plt.xlabel('Number of players', fontsize=15)\n",
    "plt.ylabel('Players Age', fontsize=15)\n",
    "sns.countplot(x=\"age\", data=dataset, palette=\"hls\");\n",
    "plt.show()"
   ]
  },
  {
   "cell_type": "code",
   "execution_count": 32,
   "metadata": {},
   "outputs": [
    {
     "data": {
      "image/png": "[encoded data removed]",
      "text/plain": [
       "<Figure size 1152x576 with 1 Axes>"
      ]
     },
     "metadata": {},
     "output_type": "display_data"
    }
   ],
   "source": [
    "plt.figure(figsize=(16,8))\n",
    "sns.set_style(\"whitegrid\")\n",
    "plt.title('Grouping players by Overall', fontsize=20, fontweight='bold', y=1.05,)\n",
    "plt.xlabel('Number of players', fontsize=15)\n",
    "plt.ylabel('Players Age', fontsize=15)\n",
    "sns.countplot(x=\"overall\", data=dataset, palette=\"hls\");\n",
    "plt.show()"
   ]
  },
  {
   "cell_type": "code",
   "execution_count": 33,
   "metadata": {},
   "outputs": [
    {
     "data": {
      "image/png": "[encoded data removed]",
      "text/plain": [
       "<Figure size 1152x576 with 1 Axes>"
      ]
     },
     "metadata": {},
     "output_type": "display_data"
    }
   ],
   "source": [
    "plt.figure(figsize=(16,8))\n",
    "sns.set_style(\"whitegrid\")\n",
    "plt.title('Grouping players by Preffered Position', fontsize=20, fontweight='bold', y=1.05,)\n",
    "plt.xlabel('Number of players', fontsize=15)\n",
    "plt.ylabel('Players Age', fontsize=15)\n",
    "sns.countplot(x=\"Position\", data=dataset, palette=\"hls\");\n",
    "plt.show()"
   ]
  },
  {
   "cell_type": "code",
   "execution_count": 34,
   "metadata": {},
   "outputs": [],
   "source": [
    "player_position_value = dataset.groupby(\"Position\").mean().reset_index()[[\"Position\", \"ValueNum\"]]\n",
    "player_position_value = player_position_value.sort_values([\"ValueNum\"], ascending=False)\n",
    "player_position_value[\"ValueNum\"] = player_position_value[\"ValueNum\"].apply(lambda x: x/1000000).values.tolist()"
   ]
  },
  {
   "cell_type": "code",
   "execution_count": 35,
   "metadata": {},
   "outputs": [
    {
     "data": {
      "image/png": "[encoded data removed]",
      "text/plain": [
       "<Figure size 1152x576 with 1 Axes>"
      ]
     },
     "metadata": {},
     "output_type": "display_data"
    }
   ],
   "source": [
    "plt.figure(figsize=(16,8))\n",
    "sns.set_style(\"whitegrid\")\n",
    "plt.title('Player Position vs Value', fontsize=20, fontweight='bold', y=1.05,)\n",
    "sns.set(font_scale = 2)\n",
    "b = sns.barplot(x=\"Position\", y=\"ValueNum\", data=player_position_value, palette=\"hls\")\n",
    "plt.xticks(rotation=90)\n",
    "b.tick_params(labelsize=15)\n",
    "plt.xlabel(\"Position\", fontsize=20)\n",
    "plt.ylabel('Mean Value [M€]', fontsize=20)\n",
    "plt.show()"
   ]
  },
  {
   "cell_type": "code",
   "execution_count": null,
   "metadata": {},
   "outputs": [],
   "source": []
  }
 ],
 "metadata": {
  "kernelspec": {
   "display_name": "Python 3",
   "language": "python",
   "name": "python3"
  },
  "language_info": {
   "codemirror_mode": {
    "name": "ipython",
    "version": 3
   },
   "file_extension": ".py",
   "mimetype": "text/x-python",
   "name": "python",
   "nbconvert_exporter": "python",
   "pygments_lexer": "ipython3",
   "version": "3.6.10"
  }
 },
 "nbformat": 4,
 "nbformat_minor": 4
}
